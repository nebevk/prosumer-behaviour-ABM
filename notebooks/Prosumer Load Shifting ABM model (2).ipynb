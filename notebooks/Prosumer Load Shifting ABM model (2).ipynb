{
 "cells": [
  {
   "cell_type": "markdown",
   "metadata": {},
   "source": [
    "# Prosumer Load Shifting ABM model\n",
    "\n",
    "## Model structure\n",
    "#### Data preparation\n",
    "- create_agent_data\n",
    "\n",
    "#### Model setup\n",
    "\n",
    "- create_agents\n",
    "- connect_agents / create_network\n",
    "\n",
    "#### Agent logic\n",
    "\n",
    "- shift_load\n",
    "- calculate_behaviour\n",
    "\n",
    "#### Simulation\n",
    "\n",
    "- simulation \n",
    "- save_data"
   ]
  },
  {
   "cell_type": "code",
   "execution_count": 5,
   "metadata": {},
   "outputs": [],
   "source": [
    "import matplotlib.pyplot as plt\n",
    "import matplotlib as mpl\n",
    "import numpy as np\n",
    "import itertools\n",
    "import random\n",
    "import copy\n",
    "import pandas as pd\n",
    "import networkx as nx\n",
    "from matplotlib import animation\n",
    "#import seaborn as sns\n",
    "plt.style.use(\"seaborn-dark-palette\")"
   ]
  },
  {
   "cell_type": "markdown",
   "metadata": {},
   "source": [
    "## Izdelava agentovih podatkov"
   ]
  },
  {
   "cell_type": "code",
   "execution_count": 6,
   "metadata": {},
   "outputs": [],
   "source": [
    "def create_agent_data(number_of_agents):\n",
    "    #load schedhule and load data\n",
    "    data = pd.read_excel(r'/data/workspace_files/basic_load_profile.xlsx')\n",
    "    data = data.set_index('time')\n",
    "    #store data in schedule dictionary key=hour, pair= load [kW]\n",
    "    schedule = {}\n",
    "\n",
    "    for index, row in data.iterrows():\n",
    "        schedule[index] = row['load_1']\n",
    "    print(schedule)\n",
    "\n",
    "    # create groups\n",
    "    groups = ['eco', 'normal', 'trad']\n",
    "    # create dataframe to store agent info\n",
    "    data_frame = pd.DataFrame(columns= ['id'])\n",
    "\n",
    "    # for each agent add following attributes\n",
    "    for agent in range(number_of_agents):\n",
    "        group = groups[random.randint(0,len(groups)-1)] #choose random group from group list\n",
    "        group_weight = 0 # assign initial group weight\n",
    "        # assign weights for each group\n",
    "        if group == 'eco':\n",
    "            group_weight = 1\n",
    "            flexibility_coeficient = 0.8\n",
    "            conv_weight = 0.5\n",
    "            price_weight = 0.5\n",
    "        elif group == 'normal':\n",
    "            group_weight = 0.5\n",
    "            flexibility_coeficient = 0.5\n",
    "            conv_weight = 1\n",
    "            price_weight = 0.5\n",
    "        elif group == 'trad':\n",
    "            group_weight = 0.1\n",
    "            flexibility_coeficient = 0.3\n",
    "            conv_weight = 1\n",
    "            price_weight = 1\n",
    "\n",
    "\n",
    "\n",
    "        data = {'id': agent,\n",
    "                'schedule': schedule,\n",
    "                'group_weight': group_weight,\n",
    "                'flexibility_coeficient': flexibility_coeficient,\n",
    "                'susceptibility': 0.1,\n",
    "                'group': group,\n",
    "                #'group_weight': group_weight,\n",
    "                'shifted_hours': 0,\n",
    "                'conv_weight': conv_weight,\n",
    "                'price_weight': price_weight\n",
    "                }\n",
    "\n",
    "        data_frame = data_frame.append(data, ignore_index=True)\n",
    "    #print(data_frame.index.tolist())\n",
    "    return data_frame.set_index('id')# Return dataframve with index ID "
   ]
  },
  {
   "cell_type": "code",
   "execution_count": 10,
   "metadata": {},
   "outputs": [],
   "source": [
    "def create_agent_data2(num_eco,num_trad,num_normal):\n",
    "    #load schedhule and load data\n",
    "    data = pd.read_excel(r'./data/workspace_files/basic_load_profile.xlsx')\n",
    "    data = data.set_index('time')\n",
    "    #store data in schedule dictionary key=hour, pair= load [kW]\n",
    "    schedule = {}\n",
    "    susceptibility = 0.1\n",
    "\n",
    "    for index, row in data.iterrows():\n",
    "        schedule[index] = row['load_1']\n",
    "    print(schedule)\n",
    "\n",
    "    # create groups\n",
    "    groups = ['eco', 'normal', 'trad']\n",
    "    # create dataframe to store agent info\n",
    "    data_frame = pd.DataFrame(columns= ['id'])\n",
    "\n",
    "    # for each agent add following attributes\n",
    "    for agent in range(num_eco):\n",
    "        group = groups[0]\n",
    "        group_weight = 0\n",
    "        group_weight = 1\n",
    "        flexibility_coeficient = 0.8\n",
    "        conv_weight = 0.5\n",
    "        price_weight = 0.5\n",
    "\n",
    "        data = {\n",
    "            'schedule': schedule,\n",
    "            'group_weight': group_weight,\n",
    "            'flexibility_coeficient': flexibility_coeficient,\n",
    "            'susceptibility': susceptibility,\n",
    "            'group': group,\n",
    "            #'group_weight': group_weight,\n",
    "            'shifted_hours': 0,\n",
    "            'conv_weight': conv_weight,\n",
    "            'price_weight': price_weight\n",
    "        }\n",
    "        data_frame = data_frame.append(data, ignore_index=True)\n",
    "\n",
    "    for agent in range(num_normal):\n",
    "        group = groups[1]\n",
    "        group_weight = 0.5\n",
    "        flexibility_coeficient = 0.5\n",
    "        conv_weight = 1\n",
    "        price_weight = 0.5\n",
    "\n",
    "        data = {\n",
    "            'schedule': schedule,\n",
    "            'group_weight': group_weight,\n",
    "            'flexibility_coeficient': flexibility_coeficient,\n",
    "            'susceptibility': susceptibility,\n",
    "            'group': group,\n",
    "            #'group_weight': group_weight,\n",
    "            'shifted_hours': 0,\n",
    "            'conv_weight': conv_weight,\n",
    "            'price_weight': price_weight\n",
    "            }\n",
    "        data_frame = data_frame.append(data, ignore_index=True)\n",
    "\n",
    "    for agent in range(num_trad):\n",
    "        group = groups[2]\n",
    "        group_weight = 0.1\n",
    "        flexibility_coeficient = 0.3\n",
    "        conv_weight = 1\n",
    "        price_weight = 1\n",
    "\n",
    "        data = {'schedule': schedule,\n",
    "                'group_weight': group_weight,\n",
    "                'flexibility_coeficient': flexibility_coeficient,\n",
    "                'susceptibility': susceptibility,\n",
    "                'group': group,\n",
    "                #'group_weight': group_weight,\n",
    "                'shifted_hours': 0,\n",
    "                'conv_weight': conv_weight,\n",
    "                'price_weight': price_weight\n",
    "                }\n",
    "        \n",
    "\n",
    "        data_frame = data_frame.append(data, ignore_index=True)\n",
    "\n",
    "    data_frame.insert(0,'New_id', range(0,len(data_frame)))\n",
    "    #print(data_frame.index.tolist())\n",
    "    return data_frame.set_index('New_id')# Return dataframve with index ID "
   ]
  },
  {
   "cell_type": "code",
   "execution_count": 11,
   "metadata": {},
   "outputs": [
    {
     "ename": "ImportError",
     "evalue": "Missing optional dependency 'openpyxl'.  Use pip or conda to install openpyxl.",
     "output_type": "error",
     "traceback": [
      "\u001B[1;31m---------------------------------------------------------------------------\u001B[0m",
      "\u001B[1;31mImportError\u001B[0m                               Traceback (most recent call last)",
      "\u001B[1;32m~\\AppData\\Local\\Temp/ipykernel_17652/1870737750.py\u001B[0m in \u001B[0;36m<module>\u001B[1;34m\u001B[0m\n\u001B[0;32m      1\u001B[0m \u001B[1;31m# prepare data with function create_agent_data and save it in variable\u001B[0m\u001B[1;33m\u001B[0m\u001B[1;33m\u001B[0m\u001B[1;33m\u001B[0m\u001B[0m\n\u001B[0;32m      2\u001B[0m \u001B[1;31m#new_agent_data = create_agent_data(12)\u001B[0m\u001B[1;33m\u001B[0m\u001B[1;33m\u001B[0m\u001B[1;33m\u001B[0m\u001B[0m\n\u001B[1;32m----> 3\u001B[1;33m \u001B[0mnew_agent_data\u001B[0m \u001B[1;33m=\u001B[0m \u001B[0mcreate_agent_data2\u001B[0m\u001B[1;33m(\u001B[0m\u001B[1;36m4\u001B[0m\u001B[1;33m,\u001B[0m\u001B[1;36m4\u001B[0m\u001B[1;33m,\u001B[0m\u001B[1;36m4\u001B[0m\u001B[1;33m)\u001B[0m\u001B[1;33m\u001B[0m\u001B[1;33m\u001B[0m\u001B[0m\n\u001B[0m\u001B[0;32m      4\u001B[0m \u001B[0mnew_agent_data\u001B[0m\u001B[1;33m.\u001B[0m\u001B[0mto_csv\u001B[0m\u001B[1;33m(\u001B[0m\u001B[1;34m'random_agentdata.csv'\u001B[0m\u001B[1;33m)\u001B[0m\u001B[1;33m\u001B[0m\u001B[1;33m\u001B[0m\u001B[0m\n\u001B[0;32m      5\u001B[0m \u001B[0mnew_agent_data\u001B[0m\u001B[1;33m\u001B[0m\u001B[1;33m\u001B[0m\u001B[0m\n",
      "\u001B[1;32m~\\AppData\\Local\\Temp/ipykernel_17652/2438169835.py\u001B[0m in \u001B[0;36mcreate_agent_data2\u001B[1;34m(num_eco, num_trad, num_normal)\u001B[0m\n\u001B[0;32m      1\u001B[0m \u001B[1;32mdef\u001B[0m \u001B[0mcreate_agent_data2\u001B[0m\u001B[1;33m(\u001B[0m\u001B[0mnum_eco\u001B[0m\u001B[1;33m,\u001B[0m\u001B[0mnum_trad\u001B[0m\u001B[1;33m,\u001B[0m\u001B[0mnum_normal\u001B[0m\u001B[1;33m)\u001B[0m\u001B[1;33m:\u001B[0m\u001B[1;33m\u001B[0m\u001B[1;33m\u001B[0m\u001B[0m\n\u001B[0;32m      2\u001B[0m     \u001B[1;31m#load schedhule and load data\u001B[0m\u001B[1;33m\u001B[0m\u001B[1;33m\u001B[0m\u001B[1;33m\u001B[0m\u001B[0m\n\u001B[1;32m----> 3\u001B[1;33m     \u001B[0mdata\u001B[0m \u001B[1;33m=\u001B[0m \u001B[0mpd\u001B[0m\u001B[1;33m.\u001B[0m\u001B[0mread_excel\u001B[0m\u001B[1;33m(\u001B[0m\u001B[1;34m'data/workspace_files/basic_load_profile.xlsx'\u001B[0m\u001B[1;33m)\u001B[0m\u001B[1;33m\u001B[0m\u001B[1;33m\u001B[0m\u001B[0m\n\u001B[0m\u001B[0;32m      4\u001B[0m     \u001B[0mdata\u001B[0m \u001B[1;33m=\u001B[0m \u001B[0mdata\u001B[0m\u001B[1;33m.\u001B[0m\u001B[0mset_index\u001B[0m\u001B[1;33m(\u001B[0m\u001B[1;34m'time'\u001B[0m\u001B[1;33m)\u001B[0m\u001B[1;33m\u001B[0m\u001B[1;33m\u001B[0m\u001B[0m\n\u001B[0;32m      5\u001B[0m     \u001B[1;31m#store data in schedule dictionary key=hour, pair= load [kW]\u001B[0m\u001B[1;33m\u001B[0m\u001B[1;33m\u001B[0m\u001B[1;33m\u001B[0m\u001B[0m\n",
      "\u001B[1;32mc:\\users\\nejc\\desktop\\magistrska naloga\\notebooks\\abm energy domain\\venv\\lib\\site-packages\\pandas\\util\\_decorators.py\u001B[0m in \u001B[0;36mwrapper\u001B[1;34m(*args, **kwargs)\u001B[0m\n\u001B[0;32m    309\u001B[0m                     \u001B[0mstacklevel\u001B[0m\u001B[1;33m=\u001B[0m\u001B[0mstacklevel\u001B[0m\u001B[1;33m,\u001B[0m\u001B[1;33m\u001B[0m\u001B[1;33m\u001B[0m\u001B[0m\n\u001B[0;32m    310\u001B[0m                 )\n\u001B[1;32m--> 311\u001B[1;33m             \u001B[1;32mreturn\u001B[0m \u001B[0mfunc\u001B[0m\u001B[1;33m(\u001B[0m\u001B[1;33m*\u001B[0m\u001B[0margs\u001B[0m\u001B[1;33m,\u001B[0m \u001B[1;33m**\u001B[0m\u001B[0mkwargs\u001B[0m\u001B[1;33m)\u001B[0m\u001B[1;33m\u001B[0m\u001B[1;33m\u001B[0m\u001B[0m\n\u001B[0m\u001B[0;32m    312\u001B[0m \u001B[1;33m\u001B[0m\u001B[0m\n\u001B[0;32m    313\u001B[0m         \u001B[1;32mreturn\u001B[0m \u001B[0mwrapper\u001B[0m\u001B[1;33m\u001B[0m\u001B[1;33m\u001B[0m\u001B[0m\n",
      "\u001B[1;32mc:\\users\\nejc\\desktop\\magistrska naloga\\notebooks\\abm energy domain\\venv\\lib\\site-packages\\pandas\\io\\excel\\_base.py\u001B[0m in \u001B[0;36mread_excel\u001B[1;34m(io, sheet_name, header, names, index_col, usecols, squeeze, dtype, engine, converters, true_values, false_values, skiprows, nrows, na_values, keep_default_na, na_filter, verbose, parse_dates, date_parser, thousands, comment, skipfooter, convert_float, mangle_dupe_cols, storage_options)\u001B[0m\n\u001B[0;32m    362\u001B[0m     \u001B[1;32mif\u001B[0m \u001B[1;32mnot\u001B[0m \u001B[0misinstance\u001B[0m\u001B[1;33m(\u001B[0m\u001B[0mio\u001B[0m\u001B[1;33m,\u001B[0m \u001B[0mExcelFile\u001B[0m\u001B[1;33m)\u001B[0m\u001B[1;33m:\u001B[0m\u001B[1;33m\u001B[0m\u001B[1;33m\u001B[0m\u001B[0m\n\u001B[0;32m    363\u001B[0m         \u001B[0mshould_close\u001B[0m \u001B[1;33m=\u001B[0m \u001B[1;32mTrue\u001B[0m\u001B[1;33m\u001B[0m\u001B[1;33m\u001B[0m\u001B[0m\n\u001B[1;32m--> 364\u001B[1;33m         \u001B[0mio\u001B[0m \u001B[1;33m=\u001B[0m \u001B[0mExcelFile\u001B[0m\u001B[1;33m(\u001B[0m\u001B[0mio\u001B[0m\u001B[1;33m,\u001B[0m \u001B[0mstorage_options\u001B[0m\u001B[1;33m=\u001B[0m\u001B[0mstorage_options\u001B[0m\u001B[1;33m,\u001B[0m \u001B[0mengine\u001B[0m\u001B[1;33m=\u001B[0m\u001B[0mengine\u001B[0m\u001B[1;33m)\u001B[0m\u001B[1;33m\u001B[0m\u001B[1;33m\u001B[0m\u001B[0m\n\u001B[0m\u001B[0;32m    365\u001B[0m     \u001B[1;32melif\u001B[0m \u001B[0mengine\u001B[0m \u001B[1;32mand\u001B[0m \u001B[0mengine\u001B[0m \u001B[1;33m!=\u001B[0m \u001B[0mio\u001B[0m\u001B[1;33m.\u001B[0m\u001B[0mengine\u001B[0m\u001B[1;33m:\u001B[0m\u001B[1;33m\u001B[0m\u001B[1;33m\u001B[0m\u001B[0m\n\u001B[0;32m    366\u001B[0m         raise ValueError(\n",
      "\u001B[1;32mc:\\users\\nejc\\desktop\\magistrska naloga\\notebooks\\abm energy domain\\venv\\lib\\site-packages\\pandas\\io\\excel\\_base.py\u001B[0m in \u001B[0;36m__init__\u001B[1;34m(self, path_or_buffer, engine, storage_options)\u001B[0m\n\u001B[0;32m   1231\u001B[0m         \u001B[0mself\u001B[0m\u001B[1;33m.\u001B[0m\u001B[0mstorage_options\u001B[0m \u001B[1;33m=\u001B[0m \u001B[0mstorage_options\u001B[0m\u001B[1;33m\u001B[0m\u001B[1;33m\u001B[0m\u001B[0m\n\u001B[0;32m   1232\u001B[0m \u001B[1;33m\u001B[0m\u001B[0m\n\u001B[1;32m-> 1233\u001B[1;33m         \u001B[0mself\u001B[0m\u001B[1;33m.\u001B[0m\u001B[0m_reader\u001B[0m \u001B[1;33m=\u001B[0m \u001B[0mself\u001B[0m\u001B[1;33m.\u001B[0m\u001B[0m_engines\u001B[0m\u001B[1;33m[\u001B[0m\u001B[0mengine\u001B[0m\u001B[1;33m]\u001B[0m\u001B[1;33m(\u001B[0m\u001B[0mself\u001B[0m\u001B[1;33m.\u001B[0m\u001B[0m_io\u001B[0m\u001B[1;33m,\u001B[0m \u001B[0mstorage_options\u001B[0m\u001B[1;33m=\u001B[0m\u001B[0mstorage_options\u001B[0m\u001B[1;33m)\u001B[0m\u001B[1;33m\u001B[0m\u001B[1;33m\u001B[0m\u001B[0m\n\u001B[0m\u001B[0;32m   1234\u001B[0m \u001B[1;33m\u001B[0m\u001B[0m\n\u001B[0;32m   1235\u001B[0m     \u001B[1;32mdef\u001B[0m \u001B[0m__fspath__\u001B[0m\u001B[1;33m(\u001B[0m\u001B[0mself\u001B[0m\u001B[1;33m)\u001B[0m\u001B[1;33m:\u001B[0m\u001B[1;33m\u001B[0m\u001B[1;33m\u001B[0m\u001B[0m\n",
      "\u001B[1;32mc:\\users\\nejc\\desktop\\magistrska naloga\\notebooks\\abm energy domain\\venv\\lib\\site-packages\\pandas\\io\\excel\\_openpyxl.py\u001B[0m in \u001B[0;36m__init__\u001B[1;34m(self, filepath_or_buffer, storage_options)\u001B[0m\n\u001B[0;32m    519\u001B[0m             \u001B[0mpassed\u001B[0m \u001B[0mto\u001B[0m \u001B[0mfsspec\u001B[0m \u001B[1;32mfor\u001B[0m \u001B[0mappropriate\u001B[0m \u001B[0mURLs\u001B[0m \u001B[1;33m(\u001B[0m\u001B[0msee\u001B[0m\u001B[0;31m \u001B[0m\u001B[0;31m`\u001B[0m\u001B[0;31m`\u001B[0m\u001B[0m_get_filepath_or_buffer\u001B[0m\u001B[0;31m`\u001B[0m\u001B[0;31m`\u001B[0m\u001B[1;33m)\u001B[0m\u001B[1;33m\u001B[0m\u001B[1;33m\u001B[0m\u001B[0m\n\u001B[0;32m    520\u001B[0m         \"\"\"\n\u001B[1;32m--> 521\u001B[1;33m         \u001B[0mimport_optional_dependency\u001B[0m\u001B[1;33m(\u001B[0m\u001B[1;34m\"openpyxl\"\u001B[0m\u001B[1;33m)\u001B[0m\u001B[1;33m\u001B[0m\u001B[1;33m\u001B[0m\u001B[0m\n\u001B[0m\u001B[0;32m    522\u001B[0m         \u001B[0msuper\u001B[0m\u001B[1;33m(\u001B[0m\u001B[1;33m)\u001B[0m\u001B[1;33m.\u001B[0m\u001B[0m__init__\u001B[0m\u001B[1;33m(\u001B[0m\u001B[0mfilepath_or_buffer\u001B[0m\u001B[1;33m,\u001B[0m \u001B[0mstorage_options\u001B[0m\u001B[1;33m=\u001B[0m\u001B[0mstorage_options\u001B[0m\u001B[1;33m)\u001B[0m\u001B[1;33m\u001B[0m\u001B[1;33m\u001B[0m\u001B[0m\n\u001B[0;32m    523\u001B[0m \u001B[1;33m\u001B[0m\u001B[0m\n",
      "\u001B[1;32mc:\\users\\nejc\\desktop\\magistrska naloga\\notebooks\\abm energy domain\\venv\\lib\\site-packages\\pandas\\compat\\_optional.py\u001B[0m in \u001B[0;36mimport_optional_dependency\u001B[1;34m(name, extra, errors, min_version)\u001B[0m\n\u001B[0;32m    116\u001B[0m     \u001B[1;32mexcept\u001B[0m \u001B[0mImportError\u001B[0m\u001B[1;33m:\u001B[0m\u001B[1;33m\u001B[0m\u001B[1;33m\u001B[0m\u001B[0m\n\u001B[0;32m    117\u001B[0m         \u001B[1;32mif\u001B[0m \u001B[0merrors\u001B[0m \u001B[1;33m==\u001B[0m \u001B[1;34m\"raise\"\u001B[0m\u001B[1;33m:\u001B[0m\u001B[1;33m\u001B[0m\u001B[1;33m\u001B[0m\u001B[0m\n\u001B[1;32m--> 118\u001B[1;33m             \u001B[1;32mraise\u001B[0m \u001B[0mImportError\u001B[0m\u001B[1;33m(\u001B[0m\u001B[0mmsg\u001B[0m\u001B[1;33m)\u001B[0m \u001B[1;32mfrom\u001B[0m \u001B[1;32mNone\u001B[0m\u001B[1;33m\u001B[0m\u001B[1;33m\u001B[0m\u001B[0m\n\u001B[0m\u001B[0;32m    119\u001B[0m         \u001B[1;32melse\u001B[0m\u001B[1;33m:\u001B[0m\u001B[1;33m\u001B[0m\u001B[1;33m\u001B[0m\u001B[0m\n\u001B[0;32m    120\u001B[0m             \u001B[1;32mreturn\u001B[0m \u001B[1;32mNone\u001B[0m\u001B[1;33m\u001B[0m\u001B[1;33m\u001B[0m\u001B[0m\n",
      "\u001B[1;31mImportError\u001B[0m: Missing optional dependency 'openpyxl'.  Use pip or conda to install openpyxl."
     ]
    }
   ],
   "source": [
    "# prepare data with function create_agent_data and save it in variable \n",
    "#new_agent_data = create_agent_data(12)\n",
    "new_agent_data = create_agent_data2(4,4,4)\n",
    "new_agent_data.to_csv('random_agentdata.csv')\n",
    "new_agent_data"
   ]
  },
  {
   "cell_type": "markdown",
   "metadata": {},
   "source": [
    "## Funkcija za izdelavo agentov"
   ]
  },
  {
   "cell_type": "code",
   "execution_count": 9,
   "metadata": {},
   "outputs": [],
   "source": [
    "#create empty graph for further use\n",
    "consumer_network = nx.Graph()\n",
    "\n",
    "def create_agents(agent_data, network):\n",
    "    for index, row in agent_data.iterrows(): # for each row in agent data add new node to graph and add data\n",
    "        # for each agent, add new node\n",
    "        network.add_node(index)\n",
    "        #network.nodes[index]['schedule'] = row['schedule']\n",
    "        network.nodes[index]['schedule'] = {1: 'empty', 2: 'empty', 3: 'empty', 4: 'empty', 5: 'empty', 6: 'empty', 7: 'empty', 8: 'empty', 9: 'empty', 10: 'empty', 11: 'empty', 12: 'empty', 13: 'empty', 14: 'empty', 15: 'empty', 16: 'empty', 17: 'empty', 18: 'flexible', 19: 'empty', 20: 'empty', 21: 'empty', 22: 'empty', 23: 'empty', 24: 'empty'}\n",
    "        network.nodes[index]['flexibility_coeficient'] = row['flexibility_coeficient']\n",
    "        network.nodes[index]['susceptibility'] = row['susceptibility']\n",
    "        network.nodes[index]['group'] = row['group']\n",
    "        network.nodes[index]['group_weight'] = row['group_weight']\n",
    "        network.nodes[index]['shifted_hours'] = row['shifted_hours']\n",
    "        network.nodes[index]['conv_weight'] = row['conv_weight']\n",
    "        network.nodes[index]['price_weight'] = row['price_weight']\n",
    "\n",
    "    #set network position to circle\n",
    "    pos = nx.random_layout(network)\n",
    "    #draw graph\n",
    "    plt.figure(figsize = (9, 6)) \n",
    "    print(network.nodes.data())\n",
    "    nx.draw_networkx(network,pos)\n",
    "    return network"
   ]
  },
  {
   "cell_type": "code",
   "execution_count": null,
   "metadata": {},
   "outputs": [],
   "source": [
    "test = create_agents(new_agent_data, consumer_network)\n",
    "test.nodes.data()"
   ]
  },
  {
   "cell_type": "code",
   "execution_count": null,
   "metadata": {},
   "outputs": [],
   "source": [
    "test.nodes[1]"
   ]
  },
  {
   "cell_type": "markdown",
   "metadata": {},
   "source": [
    "# Poveži agente v omrežje"
   ]
  },
  {
   "cell_type": "code",
   "execution_count": null,
   "metadata": {},
   "outputs": [],
   "source": [
    "def connect_agents(network):\n",
    "    # save agents to list \n",
    "    nodesList = list(network.__iter__())\n",
    "    # loop trough agents\n",
    "    for node in network.__iter__():\n",
    "        # add edge to agent from a list of all agents\n",
    "        network.add_edge(node, nodesList[random.randint(0,len(nodesList)-1)])\n",
    "        network.add_edge(node, nodesList[random.randint(0,len(nodesList)-1)])\n",
    "        # add list of all neighbours to agent atributes\n",
    "        network.nodes[node]['neighbours'] = list(network.neighbors(node))\n",
    "    # draw network graph\n",
    "    pos = nx.circular_layout(network)\n",
    "    plt.figure(figsize = (9, 9))\n",
    "    #nx.draw_networkx_edges(network, pos)\n",
    "    #nx.draw_networkx_nodes(network, pos, node_size=130, node_color='white', alpha=0.9, linewidths=1, edgecolors='gray')\n",
    "    #plt.axis(\"off\")\n",
    "    #plt.show()\n",
    "    nx.draw_networkx(network, pos)  \n",
    "    return network"
   ]
  },
  {
   "cell_type": "code",
   "execution_count": null,
   "metadata": {},
   "outputs": [],
   "source": [
    "# connect agents on test network and check if it works\n",
    "test = connect_agents(test)\n",
    "print(test.edges.data)"
   ]
  },
  {
   "cell_type": "markdown",
   "metadata": {},
   "source": [
    "## Odločitvena logika agentov "
   ]
  },
  {
   "cell_type": "code",
   "execution_count": null,
   "metadata": {},
   "outputs": [],
   "source": [
    "test_schedule = {1: 'empty', 2: 'empty', 3: 'empty', 4: 'empty', 5: 'empty', 6: 'empty', 7: 'empty', 8: 'empty', 9: 'empty', 10: 'empty', 11: 'empty', 12: 'empty', 13: 'empty', 14: 'empty', 15: 'empty', 16: 'empty', 17: 'empty', 18: 'flexible', 19: 'empty', 20: 'empty', 21: 'empty', 22: 'empty', 23: 'empty', 24: 'empty'}"
   ]
  },
  {
   "cell_type": "code",
   "execution_count": null,
   "metadata": {},
   "outputs": [],
   "source": [
    "#TODO:\n",
    "#1. Notri gre load_profil\n",
    "#2. Ven pride premaknjen load profil \n",
    "\n",
    "\n",
    "\n",
    "def shift_load(agent, network, time_frame):\n",
    "    # search for flexible load\n",
    "    hours_shifted = 0\n",
    "    if network.nodes[agent]['schedule'][time_frame] == 'flexible':\n",
    "        flexibility_treshold = 0.4 # this treshold will move with prikladonst opravila\n",
    "\n",
    "        # if agent is in first group do that\n",
    "        if network.nodes[agent]['group'] == 'first' and network.nodes[agent]['flexibility_coeficient'] > flexibility_treshold :\n",
    "            hours_shifted = 6\n",
    "            network.nodes[agent]['schedule'][time_frame] = 'shifted'\n",
    "            network.nodes[agent]['schedule'][time_frame + hours_shifted] = 'flexible_after_shifting'\n",
    "            network.nodes[agent]['shifted_hours'] =+ hours_shifted\n",
    "\n",
    "        # if agent is in second group do that\n",
    "        elif network.nodes[agent]['group'] == 'second' and network.nodes[agent]['flexibility_coeficient'] > flexibility_treshold :\n",
    "            hours_shifted = 3\n",
    "            network.nodes[agent]['schedule'][time_frame] = 'shifted'\n",
    "            network.nodes[agent]['schedule'][time_frame + hours_shifted] = 'flexible_after_shifting'\n",
    "            network.nodes[agent]['shifted_hours'] =+ hours_shifted\n",
    "\n",
    "        # if agent is in third group do that\n",
    "        elif test.nodes[agent]['group'] == 'third' and network.nodes[agent]['flexibility_coeficient'] > flexibility_treshold :\n",
    "            hours_shifted = 1\n",
    "            network.nodes[agent]['schedule'][time_frame] = 'shifted'\n",
    "            network.nodes[agent]['schedule'][time_frame + hours_shifted] = 'flexible_after_shifting'\n",
    "            network.nodes[agent]['shifted_hours'] =+ hours_shifted\n",
    "\n",
    "    \n",
    "    #return network.nodes[agent]['shifted_hours']"
   ]
  },
  {
   "cell_type": "code",
   "execution_count": null,
   "metadata": {},
   "outputs": [],
   "source": [
    "#shift_load(1, test, 18)\n",
    "print(test.nodes[1])\n",
    "\n",
    "def restart_schedule(agent, network):\n",
    "    network.nodes[agent]['schedule'] = test_schedule\n",
    "\n",
    "#restart_schedule(1,test)\n",
    "#test.nodes[1]"
   ]
  },
  {
   "cell_type": "code",
   "execution_count": null,
   "metadata": {},
   "outputs": [],
   "source": [
    "test.nodes[2]['susceptibility']"
   ]
  },
  {
   "cell_type": "markdown",
   "metadata": {},
   "source": [
    "# Obnašanje agentov"
   ]
  },
  {
   "cell_type": "code",
   "execution_count": null,
   "metadata": {},
   "outputs": [],
   "source": [
    "def behaviour(agent, agent_network):\n",
    "     # creat list of agetns neigbours\n",
    "    neighbour_list = agent_network.nodes[agent]['neighbours']\n",
    "\n",
    "    # create empty list and store behaviour of each neighbour\n",
    "    # in this case that is flexibility_coeficient\n",
    "    behaviour_list = []\n",
    "    weight_list = []\n",
    "\n",
    "    price_signal = 0.9\n",
    "    shift_signal = 0.9\n",
    "\n",
    "    # collect neighbours behaviour and weights and add them to the lists\n",
    "    for neighbour in neighbour_list:\n",
    "        behaviour_list.append(agent_network.nodes[neighbour]['flexibility_coeficient'])\n",
    "        weight_list.append(agent_network.nodes[neighbour]['group_weight'])\n",
    "       \n",
    "    \n",
    "    agent_current_weight = agent_network.nodes[agent]['group_weight']# get current agent weight\n",
    "    agent_current_flexibility = agent_network.nodes[agent]['flexibility_coeficient']# get current agent flexibility \n",
    "    print('Agents start flexibility', agent_current_flexibility)\n",
    "\n",
    "    # adjust weight with the weights of neighbours [Douw Komunikacija]\n",
    "    #for weight in weight_list:\n",
    "     #   agent_new_weight = agent_current_weight *(1-agent_network.nodes[agent]['susceptibility'])+weight*agent_network.nodes[agent]['susceptibility']\n",
    "     #   agent_current_weight = agent_new_weight\n",
    "     #   print('Začetna utež:',agent_current_weight,'Sosedova utež',weight, '= trenutna utež:', agent_current_weight)\n",
    "\n",
    "    \n",
    "\n",
    "    # update agent's flexibility and weight inside network dictionary\n",
    "    #agent_network.nodes[agent]['flexibility_coeficient'] = agent_current_flexibility\n",
    "    #agent_network.nodes[agent]['group_weight'] = agent_current_weight\n",
    "    \n",
    "\n",
    "    # BEH DIFFUSION & ECO FEEDBACK\n",
    "    # set variable B, so it repsresents agent's current behaviour\n",
    "    B = agent_network.nodes[agent]['flexibility_coeficient']\n",
    "\n",
    "    # set variable goalB, that represents incentivizied behaviour\n",
    "    goalB = 0.8\n",
    "\n",
    "    # calculate new behaviour with feedback effect equasion\n",
    "    #B = B + (goalB - B)* agent_network.nodes[agent]['susceptibility']\n",
    "\n",
    "    # calculate behaviour diffusion\n",
    "\n",
    "    B = B + agent_network.nodes[agent]['susceptibility'] * (sum(behaviour_list[n] * weight_list[n] for n in range(len          (behaviour_list)))/ sum(weight_list) - agent_network.nodes[agent]['flexibility_coeficient'])\n",
    "\n",
    "    # update agent's behaviour inside network dictionary\n",
    "    agent_network.nodes[agent]['flexibility_coeficient'] = B\n",
    "    print('Agents new flexibility', B)\n",
    "\n",
    "    #return agent_network.nodes[agent]['flexibility_coeficient']\n",
    "    return agent_current_flexibility"
   ]
  },
  {
   "cell_type": "code",
   "execution_count": null,
   "metadata": {},
   "outputs": [],
   "source": [
    "testni_behaviour = behaviour(1, test)\n",
    "testni_behaviour"
   ]
  },
  {
   "cell_type": "markdown",
   "metadata": {},
   "source": [
    "## Simulation"
   ]
  },
  {
   "cell_type": "code",
   "execution_count": null,
   "metadata": {},
   "outputs": [],
   "source": [
    "def simulation(network, days, schedule):\n",
    "    day_frame1 = {}\n",
    "    day_frame2 = {}\n",
    "    key_frame = {}\n",
    "    for day in range(0,days): #counter za 50 iteracij\n",
    "\n",
    "        #df = pd.DataFrame(columns =('Day', 'Agent group'))\n",
    "        export_data = {}\n",
    "        export_data2 = {}\n",
    "        export_key_data = {}\n",
    "\n",
    "        print('Dan št:',day+1)\n",
    "        for agent in network: #v vsaki časovni enoti urnika nato obravnavamo vse agente, gremo preko seznama agenot in izračunamo obnašanje.\n",
    "            # potem ni važno kako ali je po urah ali 15 min resolucijo\n",
    "            #print('Ura: ', key)\n",
    "            for key in schedule:\n",
    "                if day == 2: # izvedi samo na 3. dan\n",
    "                    shift_load(agent, network, key)\n",
    "                    \n",
    "                #shifted_hours = network.nodes[agent]['shifted_hours']\n",
    "                agent_group = network.nodes[agent]['group']\n",
    "                export_key_data[agent_group, agent] = network.nodes[agent]['shifted_hours']\n",
    "                key_frame[key] = export_key_data\n",
    "            \n",
    "            #agent_group = network.nodes[agent]['group']\n",
    "            agent_flexibility = network.nodes[agent]['flexibility_coeficient']\n",
    "            export_data[agent_group, agent] = network.nodes[agent]['shifted_hours']\n",
    "            export_data2[agent_group, agent] = agent_flexibility\n",
    "                \n",
    "            agent_flexibility = round(behaviour(agent, network),3)\n",
    "            \n",
    "            #restart_schedule(agent,network)\n",
    "\n",
    "            day_frame1[day+1] = export_data\n",
    "            day_frame2[day+1] = export_data2\n",
    "            \n",
    "\n",
    "    df = pd.DataFrame.from_dict(day_frame1)\n",
    "    df2 = pd.DataFrame.from_dict(day_frame2)\n",
    "    df3_keys = pd.DataFrame.from_dict(key_frame)\n",
    "    return network, df, df2, df3_keys"
   ]
  },
  {
   "cell_type": "code",
   "execution_count": null,
   "metadata": {},
   "outputs": [],
   "source": [
    "results, exported_data, exported_data2, exported_keys = simulation(test, 30, test_schedule)"
   ]
  },
  {
   "cell_type": "code",
   "execution_count": null,
   "metadata": {},
   "outputs": [],
   "source": [
    "#export za premik ur \n",
    "exported_data"
   ]
  },
  {
   "cell_type": "code",
   "execution_count": null,
   "metadata": {},
   "outputs": [],
   "source": [
    "\n",
    "exported_data.to_excel('output_obnašanjeagentov1.xlsx')\n",
    "\n",
    "#df = pd.DataFrame.from_dict(exported_data, orient='index')\n",
    "#df.set_index(['Agent_group', 'Agent'],)"
   ]
  },
  {
   "cell_type": "code",
   "execution_count": null,
   "metadata": {},
   "outputs": [],
   "source": [
    "#export za flexibility coeficient\n",
    "exported_data2"
   ]
  },
  {
   "cell_type": "code",
   "execution_count": null,
   "metadata": {},
   "outputs": [],
   "source": [
    "exported_data2.to_excel('output_obnašanjeagentov2.xlsx')"
   ]
  },
  {
   "cell_type": "code",
   "execution_count": null,
   "metadata": {},
   "outputs": [],
   "source": [
    "\n",
    "fig = plt.figure(figsize =(10, 7))\n",
    "bp = plt.boxplot(exported_data2,showmeans=False, showfliers=False)\n",
    "plt.xlabel(\"Čas\")\n",
    "plt.ylabel(\"Koeficient prožnosti \")\n",
    "plt.title(\"Susceptibility = 0.1\")\n",
    "#plot = exported_data2.boxplot(grid=False)\n"
   ]
  },
  {
   "cell_type": "code",
   "execution_count": null,
   "metadata": {},
   "outputs": [],
   "source": [
    "exported_data2.index.names = ['Group','Id']\n",
    "#exported_data2.groupby(['Group']).mean()\n",
    "#type(exported_data2)\n",
    "#sns.pointplot(data=exported_data2.groupby('Group', as_index=False).mean(), ax=bp)"
   ]
  },
  {
   "cell_type": "code",
   "execution_count": null,
   "metadata": {},
   "outputs": [],
   "source": []
  },
  {
   "cell_type": "code",
   "execution_count": null,
   "metadata": {},
   "outputs": [],
   "source": [
    "exported_keys"
   ]
  },
  {
   "cell_type": "code",
   "execution_count": null,
   "metadata": {},
   "outputs": [],
   "source": [
    "exported_keys.to_excel('output_obnašanjeagentov_keys.xlsx')"
   ]
  },
  {
   "cell_type": "code",
   "execution_count": null,
   "metadata": {},
   "outputs": [],
   "source": []
  },
  {
   "cell_type": "code",
   "execution_count": null,
   "metadata": {},
   "outputs": [],
   "source": []
  },
  {
   "cell_type": "code",
   "execution_count": null,
   "metadata": {},
   "outputs": [],
   "source": []
  },
  {
   "cell_type": "code",
   "execution_count": null,
   "metadata": {},
   "outputs": [],
   "source": []
  },
  {
   "cell_type": "code",
   "execution_count": null,
   "metadata": {},
   "outputs": [],
   "source": []
  },
  {
   "cell_type": "code",
   "execution_count": null,
   "metadata": {},
   "outputs": [],
   "source": []
  },
  {
   "cell_type": "markdown",
   "metadata": {},
   "source": [
    "# Testi in načrti"
   ]
  },
  {
   "cell_type": "markdown",
   "metadata": {},
   "source": [
    "Načrt modela: \n",
    "1. Ustvari agent data\n",
    "2. Create agents as nodes in graph (unconnected)\n",
    "3. Decision logics for shifting electrical loads\n",
    "4. Calculate behaviour for each agent each time frame\n",
    "    1. What behaviour consist of? \n",
    "    2. "
   ]
  },
  {
   "cell_type": "markdown",
   "metadata": {},
   "source": [
    "## Odločitvena logika"
   ]
  },
  {
   "cell_type": "code",
   "execution_count": null,
   "metadata": {},
   "outputs": [],
   "source": [
    "#najdi fleksibilno porabo in jo premakni\n",
    "def shiftLoad(agent, timeFrame):\n",
    "    if load == flexible:\n",
    "        switch loads for fixed\n",
    "        if group1 == true:\n",
    "            hours_shifted = 6 \n",
    "            schedule[timeFrame] = 'shifted_load'\n",
    "            schedule[timeFrame+hours_shifted] = 'flexible'\n",
    "        elif group2 == true:\n",
    "            hours_shifted = 3 \n",
    "            schedule[timeFrame] = 'shifted_load'\n",
    "            schedule[timeFrame+hours_shifted] = 'flexible'\n",
    "    total_hoursh_shifted += hours_shifted\n",
    "    return(agent, hours_shifted)\n"
   ]
  },
  {
   "cell_type": "markdown",
   "metadata": {},
   "source": [
    "## Test poganjanja časa v simmulaciji\n",
    "Najprej na ure, nato na 15 min resolucijo"
   ]
  },
  {
   "cell_type": "code",
   "execution_count": null,
   "metadata": {},
   "outputs": [],
   "source": [
    "\n",
    "#test zanke za računanje dni\n",
    "\n",
    "days = 1 \n",
    "tick_counter = 0 \n",
    "hour_counter = 0\n",
    "while tick_counter < days * 96:\n",
    "    while tick_counter < 1:\n",
    "        hour_counter = tick_counter % 24 \n",
    "        print('hour: ', hour_counter)\n",
    "        tick_counter += 1\n",
    "        print('15min: ',tick_counter)\n",
    "\n",
    "\n",
    "\n",
    "##Najbolj smiselsna zanka\n",
    "\n",
    "for day in range(0,50): #counter za 50 iteracij\n",
    "    # za vsak dan hočemo skozi urnik -> Sepravi na koliko enot je razdeljen schedule.\n",
    "    # potem ni važno kako ali je po urah ali 15 min resolucijo, ker se gleda vrstice s\n",
    "    for row in schedule:\n",
    "        #v vsaki časovni enoti urnika nato obravnavamo vse agente, gremo preko seznama agenot in izračunamo obnašanje.\n",
    "        for agent in agents:\n",
    "            calculateBehaviour()\n",
    "    "
   ]
  },
  {
   "cell_type": "code",
   "execution_count": null,
   "metadata": {},
   "outputs": [],
   "source": [
    "def simulation(network, days, schedule):\n",
    "    export_data = {} # prazen slovar za izvoz podatkov\n",
    "    df = pd.DataFrame()\n",
    "    for day in range(0,days): #counter za 50 iteracij\n",
    "        print('Dan št:',day+1)\n",
    "        for key in schedule:  # za vsak dan hočemo skozi urnik -> Sepravi na koliko enot je razdeljen schedule.\n",
    "            # potem ni važno kako ali je po urah ali 15 min resolucijo\n",
    "\n",
    "            print('Ura: ', key)\n",
    "            for agent in network: #v vsaki časovni enoti urnika nato obravnavamo vse agente, gremo preko seznama agenot in izračunamo obnašanje.\n",
    "                shifted_hours = network.nodes[agent]['shifted_hours']\n",
    "                export_data['Agent', agent] = shifted_hours\n",
    "                export_data['Agent_group', agent] = network.nodes[agent]['group']\n",
    "                shiftLoad(agent, network, key)\n",
    "                \n",
    "\n",
    "    return network, export_data"
   ]
  },
  {
   "cell_type": "markdown",
   "metadata": {},
   "source": [
    "## Testiranje enačb"
   ]
  },
  {
   "cell_type": "code",
   "execution_count": null,
   "metadata": {},
   "outputs": [],
   "source": [
    "flex = 0.2\n",
    "susc = 0.1\n",
    "weight_list = [1,0.5,1]\n",
    "current_weight = 0.5\n",
    "\n",
    "for weight in weight_list:\n",
    "    Gw = current_weight *(1-susc)+(weight*susc)\n",
    "    current_weight = Gw\n",
    "    print('Gw od uteži',weight, '=', current_weight)\n",
    "Gw\n",
    "\n",
    "#Gw = current_weight *(1-susc)+(weight_list[n] for n in range(len(weight_list)))"
   ]
  },
  {
   "cell_type": "code",
   "execution_count": null,
   "metadata": {},
   "outputs": [],
   "source": [
    "print('Gw', Gw)\n",
    "flex = Gw * flex\n",
    "flex"
   ]
  },
  {
   "cell_type": "code",
   "execution_count": null,
   "metadata": {},
   "outputs": [],
   "source": []
  },
  {
   "cell_type": "code",
   "execution_count": null,
   "metadata": {},
   "outputs": [],
   "source": [
    "test_load = {1: 0.1, 2: 0.1, 3: 0.1, 4: 0.1, 5: 0.2, 6: 0.1, 7: 0.1, 8: 0.1, 9: 0.1, 10: 0.1, 11: 0.1, 12: 0.1, 13: 0.1, 14: 0.1, 15: 1.5, 16: 1.5, 17: 0.1, 18: 2.0, 19: 3.0, 20: 2.0, 21: 1.0, 22: 0.2, 23: 0.2, 24: 0.1}"
   ]
  },
  {
   "cell_type": "code",
   "execution_count": null,
   "metadata": {},
   "outputs": [],
   "source": [
    "# pride shift signal\n",
    "# at 13:00 you can shift 0.4 for 6h \n",
    "\n",
    "shift_signal = {hour: 2, load: 0.4}\n",
    "\n",
    "# shift load preveri samo\n",
    "def shift_load_test(test_load, shift_signal):\n",
    "\n",
    "    new_load = 0 \n",
    "    return new_load"
   ]
  },
  {
   "cell_type": "code",
   "execution_count": null,
   "metadata": {},
   "outputs": [],
   "source": []
  },
  {
   "cell_type": "code",
   "execution_count": null,
   "metadata": {},
   "outputs": [],
   "source": [
    "#       \n",
    "agent = []\n",
    "behaviour_coeficient = 0.5\n",
    "suscpetibility = 0.1\n",
    "signal_cena = 0.1\n",
    "signal_dolzina = 0.1\n",
    "w_cena = 0.5\n",
    "w_dolzina = 0.9\n",
    "prikladonst = 0 \n"
   ]
  },
  {
   "cell_type": "code",
   "execution_count": null,
   "metadata": {},
   "outputs": [],
   "source": [
    "prikladonst = w_cena * (1- signal_cena) + w_dolzina * (1- signal_dolzina)\n",
    "prikladonst"
   ]
  },
  {
   "cell_type": "code",
   "execution_count": null,
   "metadata": {},
   "outputs": [],
   "source": []
  },
  {
   "cell_type": "code",
   "execution_count": null,
   "metadata": {},
   "outputs": [],
   "source": []
  }
 ],
 "metadata": {
  "kernelspec": {
   "display_name": "Python 3 (ipykernel)",
   "language": "python",
   "name": "python3"
  },
  "language_info": {
   "codemirror_mode": {
    "name": "ipython",
    "version": 3
   },
   "file_extension": ".py",
   "mimetype": "text/x-python",
   "name": "python",
   "nbconvert_exporter": "python",
   "pygments_lexer": "ipython3",
   "version": "3.8.5"
  }
 },
 "nbformat": 4,
 "nbformat_minor": 1
}