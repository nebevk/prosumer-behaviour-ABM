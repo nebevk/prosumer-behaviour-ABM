{
 "cells": [
  {
   "cell_type": "markdown",
   "metadata": {},
   "source": [
    "# Prosumer Load Shifting ABM model V3\n",
    "\n",
    "## Model structure\n",
    "#### Data preparation\n",
    "- create_agent_data\n",
    "\n",
    "#### Model setup\n",
    "\n",
    "- create_agents\n",
    "- connect_agents / create_network\n",
    "\n",
    "#### Agent logic\n",
    "\n",
    "- shift_load\n",
    "- calculate_behaviour\n",
    "\n",
    "#### Simulation\n",
    "\n",
    "- simulation \n",
    "- save_data"
   ]
  },
  {
   "cell_type": "code",
   "execution_count": 1,
   "metadata": {},
   "outputs": [
    {
     "ename": "ModuleNotFoundError",
     "evalue": "No module named 'networkx'",
     "output_type": "error",
     "traceback": [
      "\u001b[1;31m---------------------------------------------------------------------------\u001b[0m",
      "\u001b[1;31mModuleNotFoundError\u001b[0m                       Traceback (most recent call last)",
      "\u001b[1;32m~\\AppData\\Local\\Temp/ipykernel_38444/3654146438.py\u001b[0m in \u001b[0;36m<module>\u001b[1;34m\u001b[0m\n\u001b[0;32m      6\u001b[0m \u001b[1;32mimport\u001b[0m \u001b[0mcopy\u001b[0m\u001b[1;33m\u001b[0m\u001b[1;33m\u001b[0m\u001b[0m\n\u001b[0;32m      7\u001b[0m \u001b[1;32mimport\u001b[0m \u001b[0mpandas\u001b[0m \u001b[1;32mas\u001b[0m \u001b[0mpd\u001b[0m\u001b[1;33m\u001b[0m\u001b[1;33m\u001b[0m\u001b[0m\n\u001b[1;32m----> 8\u001b[1;33m \u001b[1;32mimport\u001b[0m \u001b[0mnetworkx\u001b[0m \u001b[1;32mas\u001b[0m \u001b[0mnx\u001b[0m\u001b[1;33m\u001b[0m\u001b[1;33m\u001b[0m\u001b[0m\n\u001b[0m\u001b[0;32m      9\u001b[0m \u001b[1;32mfrom\u001b[0m \u001b[0mmatplotlib\u001b[0m \u001b[1;32mimport\u001b[0m \u001b[0manimation\u001b[0m\u001b[1;33m\u001b[0m\u001b[1;33m\u001b[0m\u001b[0m\n\u001b[0;32m     10\u001b[0m \u001b[1;32mimport\u001b[0m \u001b[0mseaborn\u001b[0m \u001b[1;32mas\u001b[0m \u001b[0msns\u001b[0m\u001b[1;33m\u001b[0m\u001b[1;33m\u001b[0m\u001b[0m\n",
      "\u001b[1;31mModuleNotFoundError\u001b[0m: No module named 'networkx'"
     ]
    }
   ],
   "source": [
    "from matplotlib import pyplot as plt\n",
    "import matplotlib as mpl\n",
    "import numpy as np\n",
    "import itertools\n",
    "import random\n",
    "import copy\n",
    "import pandas as pd\n",
    "import networkx as nx\n",
    "from matplotlib import animation\n",
    "import seaborn as sns\n",
    "plt.style.use(\"seaborn-dark-palette\")\n",
    "sns.set(style='ticks') \n",
    "from sklearn import preprocessing as prep    "
   ]
  },
  {
   "cell_type": "markdown",
   "metadata": {},
   "source": [
    "## Izdelava agentovih podatkov\n",
    "\n",
    "Prva funkcija je namenjena generiranju naključnih skupin"
   ]
  },
  {
   "cell_type": "code",
   "execution_count": null,
   "metadata": {},
   "outputs": [],
   "source": [
    "def create_agent_data(number_of_agents):\n",
    "    #load schedhule and load data\n",
    "    data = pd.read_excel(r'/data/workspace_files/basic_load_profile.xlsx')\n",
    "    data = data.set_index('time')\n",
    "    #store data in schedule dictionary key=hour, pair= load [kW]\n",
    "    schedule = {}\n",
    "\n",
    "    for index, row in data.iterrows():\n",
    "        schedule[index] = row['load_1']\n",
    "    print(schedule)\n",
    "\n",
    "    # create groups\n",
    "    groups = ['eco', 'normal', 'trad']\n",
    "    # create dataframe to store agent info\n",
    "    data_frame = pd.DataFrame(columns= ['id'])\n",
    "\n",
    "    # for each agent add following attributes\n",
    "    for agent in range(number_of_agents):\n",
    "        group = groups[random.randint(0,len(groups)-1)] #choose random group from group list\n",
    "        group_weight = 0 # assign initial group weight\n",
    "        # assign weights for each group\n",
    "        if group == 'eco':\n",
    "            group_weight = 0.1\n",
    "            flexibility_coeficient = 0.8\n",
    "            conv_weight = 0.5\n",
    "            price_weight = 0.5\n",
    "        elif group == 'normal':\n",
    "            group_weight = 0.1\n",
    "            flexibility_coeficient = 0.5\n",
    "            conv_weight = 1\n",
    "            price_weight = 0.5\n",
    "        elif group == 'trad':\n",
    "            group_weight = 0.1\n",
    "            flexibility_coeficient = 0.3\n",
    "            conv_weight = 1\n",
    "            price_weight = 1\n",
    "\n",
    "\n",
    "\n",
    "        data = {'id': agent,\n",
    "                'schedule': schedule,\n",
    "                'group_weight': group_weight,\n",
    "                'flexibility_coeficient': flexibility_coeficient,\n",
    "                'susceptibility': 0.1,\n",
    "                'group': group,\n",
    "                #'group_weight': group_weight,\n",
    "                'load_shifts': 0,\n",
    "                'conv_weight': conv_weight,\n",
    "                'price_weight': price_weight\n",
    "                }\n",
    "\n",
    "        data_frame = data_frame.append(data, ignore_index=True)\n",
    "    #print(data_frame.index.tolist())\n",
    "    return data_frame.set_index('id')# Return dataframve with index ID "
   ]
  },
  {
   "cell_type": "markdown",
   "metadata": {},
   "source": [
    "Druga funkcija je namenjena točnemu številu agentov skupin"
   ]
  },
  {
   "cell_type": "code",
   "execution_count": null,
   "metadata": {},
   "outputs": [],
   "source": [
    "def create_agent_data2(num_eco,num_trad,num_normal):\n",
    "    #load schedhule and load data\n",
    "    data = pd.read_excel(r'basic_load_profile.xlsx')\n",
    "    \n",
    "    data = data.set_index('time')\n",
    "    #store data in schedule dictionary key=hour, pair= load [kW]\n",
    "    schedule = {}\n",
    "    susceptibility = 0.1\n",
    "    group_weight = 0.1\n",
    "\n",
    "    for index, row in data.iterrows():\n",
    "        schedule[index] = row['load_1']\n",
    "    print(\"Printed schedule\", schedule)\n",
    "\n",
    "    # create groups\n",
    "    groups = ['eco', 'normal', 'trad']\n",
    "    # create dataframe to store agent info\n",
    "    data_frame = pd.DataFrame(columns= ['id'])\n",
    "\n",
    "    # for each agent add following attributes\n",
    "    for agent in range(num_eco):\n",
    "        group = groups[0]\n",
    "        group_weight = group_weight\n",
    "        flexibility_coeficient = 0.8\n",
    "        # shift length weight\n",
    "        conv_weight = 0.5\n",
    "        price_weight = 0.5\n",
    "\n",
    "        data = {\n",
    "            'schedule': schedule,\n",
    "            'group_weight': group_weight,\n",
    "            'flexibility_coeficient': flexibility_coeficient,\n",
    "            'susceptibility': susceptibility,\n",
    "            'group': group,\n",
    "            #'group_weight': group_weight,\n",
    "            'load_shifts': 0,\n",
    "            'conv_weight': conv_weight,\n",
    "            'price_weight': price_weight,\n",
    "            'shift_counter': 0\n",
    "        }\n",
    "        data_frame = data_frame.append(data, ignore_index=True)\n",
    "\n",
    "    for agent in range(num_normal):\n",
    "        group = groups[1]\n",
    "        group_weight = group_weight\n",
    "        flexibility_coeficient = 0.5\n",
    "        conv_weight = 1\n",
    "        price_weight = 0.5\n",
    "\n",
    "        data = {\n",
    "            'schedule': schedule,\n",
    "            'group_weight': group_weight,\n",
    "            'flexibility_coeficient': flexibility_coeficient,\n",
    "            'susceptibility': susceptibility,\n",
    "            'group': group,\n",
    "            #'group_weight': group_weight,\n",
    "            'load_shifts': 0,\n",
    "            'conv_weight': conv_weight,\n",
    "            'price_weight': price_weight,\n",
    "            'shift_counter': 0\n",
    "            }\n",
    "        data_frame = data_frame.append(data, ignore_index=True)\n",
    "\n",
    "    for agent in range(num_trad):\n",
    "        group = groups[2]\n",
    "        group_weight = group_weight\n",
    "        flexibility_coeficient = 0.3\n",
    "        conv_weight = 1\n",
    "        price_weight = 1\n",
    "\n",
    "        data = {'schedule': schedule,\n",
    "                'group_weight': group_weight,\n",
    "                'flexibility_coeficient': flexibility_coeficient,\n",
    "                'susceptibility': susceptibility,\n",
    "                'group': group,\n",
    "                #'group_weight': group_weight,\n",
    "                'load_shifts': 0,\n",
    "                'conv_weight': conv_weight,\n",
    "                'price_weight': price_weight,\n",
    "                'shift_counter': 0\n",
    "                }\n",
    "        \n",
    "\n",
    "        data_frame = data_frame.append(data, ignore_index=True)\n",
    "\n",
    "    data_frame.insert(0,'New_id', range(0,len(data_frame)))\n",
    "    #print(data_frame.index.tolist())\n",
    "    return data_frame.set_index('New_id')# Return dataframve with index ID "
   ]
  },
  {
   "cell_type": "markdown",
   "metadata": {},
   "source": [
    "## Priprava deležov skupin"
   ]
  },
  {
   "cell_type": "code",
   "execution_count": null,
   "metadata": {},
   "outputs": [],
   "source": [
    "# prepare data with function create_agent_data and save it in variable \n",
    "#random agent data\n",
    "#new_agent_data = create_agent_data(12)\n",
    "#fixed agent data\n",
    "new_agent_data = create_agent_data2(4,4,4)\n",
    "new_agent_data.to_csv('random_agentdata.csv')\n",
    "new_agent_data"
   ]
  },
  {
   "cell_type": "markdown",
   "metadata": {},
   "source": [
    "## Funkcija za izdelavo agentov"
   ]
  },
  {
   "cell_type": "code",
   "execution_count": null,
   "metadata": {},
   "outputs": [],
   "source": [
    "#create empty graph for further use\n",
    "consumer_network = nx.Graph()\n",
    "\n",
    "def create_agents(agent_data, network):\n",
    "    for index, row in agent_data.iterrows(): # for each row in agent data add new node to graph and add data\n",
    "        # for each agent, add new node\n",
    "        network.add_node(index)\n",
    "        network.nodes[index]['schedule'] = row['schedule']\n",
    "        #network.nodes[index]['schedule'] = {1: 'empty', 2: 'empty', 3: 'empty', 4: 'empty', 5: 'empty', 6: 'empty', 7: 'empty', 8: 'empty', 9: 'empty', 10: 'empty', 11: 'empty', 12: 'empty', 13: 'empty', 14: 'empty', 15: 'empty', 16: 'empty', 17: 'empty', 18: 'flexible', 19: 'empty', 20: 'empty', 21: 'empty', 22: 'empty', 23: 'empty', 24: 'empty'}\n",
    "        network.nodes[index]['flexibility_coeficient'] = row['flexibility_coeficient']\n",
    "        network.nodes[index]['susceptibility'] = row['susceptibility']\n",
    "        network.nodes[index]['group'] = row['group']\n",
    "        network.nodes[index]['group_weight'] = row['group_weight']\n",
    "        network.nodes[index]['load_shifts'] = row['load_shifts']\n",
    "        network.nodes[index]['conv_weight'] = row['conv_weight']\n",
    "        network.nodes[index]['price_weight'] = row['price_weight']\n",
    "        network.nodes[index]['shift_counter'] = row['shift_counter']\n",
    "        \n",
    "    #set network position to circle\n",
    "    #pos = nx.random_layout(network)\n",
    "    #draw graph\n",
    "    #plt.figure(figsize = (9, 6)) \n",
    "    #print(network.nodes.data())\n",
    "    #nx.draw_networkx(network,pos)\n",
    "    return network"
   ]
  },
  {
   "cell_type": "code",
   "execution_count": null,
   "metadata": {},
   "outputs": [],
   "source": [
    "test = create_agents(new_agent_data, consumer_network)\n",
    "#test2 = create_agents(new_agent_data, consumer_network)\n",
    "test.nodes.data()"
   ]
  },
  {
   "cell_type": "code",
   "execution_count": null,
   "metadata": {},
   "outputs": [],
   "source": [
    "test.nodes[1]"
   ]
  },
  {
   "cell_type": "markdown",
   "metadata": {},
   "source": [
    "# Ustvari omrežje - >Topologijo\n",
    "### Naključno omrežje "
   ]
  },
  {
   "cell_type": "code",
   "execution_count": null,
   "metadata": {},
   "outputs": [],
   "source": [
    "def connect_agents_random(network):\n",
    "    # save agents to list \n",
    "    nodesList = list(network.__iter__())\n",
    "\n",
    "    # loop trough agents\n",
    "    for node in network.__iter__():\n",
    "        # add edge to agent from a list of all agents\n",
    "        network.add_edge(node, nodesList[random.randint(0,len(nodesList)-1)])\n",
    "        network.add_edge(node, nodesList[random.randint(0,len(nodesList)-1)])\n",
    "                         \n",
    "        # add list of all neighbours to agent atributes\n",
    "        network.nodes[node]['neighbours'] = list(network.neighbors(node))\n",
    "        \n",
    "    #set node color \n",
    "    color_map = ['tomato' if network.nodes[node]['group'] == 'trad' else 'deepskyblue' if network.nodes[node]['group'] == 'normal' else 'limegreen' for node in network]     \n",
    "    \n",
    "\n",
    "    network.remove_edges_from(list(nx.selfloop_edges(network)))\n",
    "    # draw network graph\n",
    "    pos = nx.circular_layout(network)\n",
    "    plt.figure(figsize = (16, 16))\n",
    "    nx.draw_networkx(network, pos, node_color= color_map, linewidths=5)  \n",
    "    #nx.draw_networkx(network, pos)  \n",
    "    return network"
   ]
  },
  {
   "cell_type": "markdown",
   "metadata": {},
   "source": [
    "### Polnopovezano omrežje "
   ]
  },
  {
   "cell_type": "code",
   "execution_count": null,
   "metadata": {},
   "outputs": [],
   "source": [
    "def connect_agents_fullyconnected(network):\n",
    "    # save agents to list \n",
    "    agents = network.number_of_nodes()\n",
    "    fully_connected = nx.complete_graph(agents)\n",
    "    edges = fully_connected.edges\n",
    "\n",
    "    network.add_edges_from(edges)\n",
    "    pos = nx.circular_layout(network)\n",
    "\n",
    "    for node in network.__iter__():\n",
    "        network.nodes[node]['neighbours'] = list(network.neighbors(node))\n",
    "\n",
    "     #set node color \n",
    "    color_map = ['tomato' if network.nodes[node]['group'] == 'trad' else 'deepskyblue' if network.nodes[node]['group'] == 'normal' else 'limegreen' for node in network]\n",
    "\n",
    "    plt.figure(figsize = (16, 16))\n",
    "    nx.draw_networkx(network, pos, node_color= color_map, linewidths=5)  \n",
    "    return network"
   ]
  },
  {
   "cell_type": "markdown",
   "metadata": {},
   "source": [
    "### Small world omrežje"
   ]
  },
  {
   "cell_type": "code",
   "execution_count": null,
   "metadata": {},
   "outputs": [],
   "source": [
    "def connect_agents_smallworld(network):\n",
    "    # save agents to list \n",
    "    agents = network.number_of_nodes()\n",
    "    small_world = nx.watts_strogatz_graph(n = agents, k = 4, p=0.2)\n",
    "    edges = small_world.edges\n",
    "\n",
    "    network.add_edges_from(edges)\n",
    "    pos = nx.circular_layout(network)\n",
    "\n",
    "    for node in network.__iter__():\n",
    "        network.nodes[node]['neighbours'] = list(network.neighbors(node))\n",
    "\n",
    "     #set node color \n",
    "    color_map = ['tomato' if network.nodes[node]['group'] == 'trad' else 'deepskyblue' if network.nodes[node]['group'] == 'normal' else 'limegreen' for node in network]\n",
    "\n",
    "    plt.figure(figsize = (16,16))\n",
    "    nx.draw_networkx(network, pos, node_color= color_map, linewidths=5)  \n",
    "    #nx.draw_networkx(network, pos)  \n",
    "    return network"
   ]
  },
  {
   "cell_type": "code",
   "execution_count": null,
   "metadata": {},
   "outputs": [],
   "source": [
    "# connect agents on test network and check if it works\n",
    "test = connect_agents_random(test)\n",
    "#test = connect_agents_fullyconnected(test)\n",
    "#test = connect_agents_smallworld(test)\n",
    "print(test.edges.data)"
   ]
  },
  {
   "cell_type": "code",
   "execution_count": null,
   "metadata": {},
   "outputs": [],
   "source": [
    "print(\"St edgov\",test.number_of_edges())\n",
    "print(\"Povpr. rojenje\", nx.average_clustering(test))\n",
    "print(\"Povpr. najkrasa pot\", nx.average_shortest_path_length(test))\n",
    "print(\"Najmocnejsi clen\", max(nx.betweenness_centrality(test).values()))"
   ]
  },
  {
   "cell_type": "code",
   "execution_count": null,
   "metadata": {},
   "outputs": [],
   "source": []
  },
  {
   "cell_type": "markdown",
   "metadata": {},
   "source": [
    "## Odločitvena logika agentov "
   ]
  },
  {
   "cell_type": "code",
   "execution_count": null,
   "metadata": {},
   "outputs": [],
   "source": [
    "#testschedule\n",
    "test_schedule = {1: 'empty', 2: 'empty', 3: 'empty', 4: 'empty', 5: 'empty', 6: 'empty', 7: 'empty', 8: 'empty', 9: 'empty', 10: 'empty', 11: 'empty', 12: 'empty', 13: 'empty', 14: 'empty', 15: 'empty', 16: 'empty', 17: 'empty', 18: 'flexible', 19: 'empty', 20: 'empty', 21: 'empty', 22: 'empty', 23: 'empty', 24: 'empty'}"
   ]
  },
  {
   "cell_type": "code",
   "execution_count": null,
   "metadata": {},
   "outputs": [],
   "source": [
    "\n",
    "def coordinator(time_frame, load):\n",
    "    # on obdela podatke cene in zamika, jih normalizira in pošlje naprej, tako da za shift_load dobi samo normalizirane vrednosti\n",
    "    tariff_data = []\n",
    "    load_data = []\n",
    "    return load_data, tariff_data#, price_signal, load_signal\n",
    "\n",
    "# agent -> all curent agent data | network -> network data | time_frame -> current hour\n",
    "def shift_load(agent, network, time_frame):\n",
    "    # set data for testing \n",
    "    electricity_price = [[0.1, 0.25]]\n",
    "    shift_length = [[3,6]]\n",
    "    # set initial atractivity \n",
    "    att = 0 \n",
    "\n",
    "    # get data from agent -> load weight and shift weigh\n",
    "    agent_Sw = network.nodes[agent]['conv_weight'] \n",
    "    agent_Pw = network.nodes[agent]['price_weight']\n",
    "    # calibration weight\n",
    "    Kw = 0.6\n",
    "\n",
    "    # normalise price and shift length\n",
    "    pN = prep.normalize(electricity_price, norm=\"l1\")\n",
    "    sN = prep.normalize(shift_length, norm=\"l1\")\n",
    "\n",
    "    # electricty price signl for each tariff\n",
    "    if 6 <= time_frame < 22:\n",
    "        \n",
    "        price_signal = pN[0][1] #high price\n",
    "    else:\n",
    "        price_signal = pN[0][0] #low price\n",
    "\n",
    "    # shift signal, depends on lenght\n",
    "    # short shift [0][0] \n",
    "    # long shift [0][1]\n",
    "    shift_signal = sN[0][1]\n",
    "\n",
    "    # weights normalization\n",
    "    wN = prep.normalize([[agent_Pw, agent_Sw, Kw]], norm=\"l1\")\n",
    "    #print(\"Agent group: \",network.nodes[agent]['group'],\"| Normalised weights: \", wN)\n",
    "\n",
    "    # calculate atractivyt of load \n",
    "    # this wil set treshold for shifting load\n",
    "    att = (wN[0][0] * price_signal) + (wN[0][1] * shift_signal)\n",
    "\n",
    "    # counter for counting how many shifts were done \n",
    "    shift_counter = 0\n",
    "    # get current shifts \n",
    "    current_counts = network.nodes[agent]['load_shifts'] \n",
    "    # counter for hours\n",
    "        \n",
    "    # counter for kw \n",
    "\n",
    "\n",
    "    #print(\"Flex\",network.nodes[agent]['flexibility_coeficient'],\"Att:\",att,\" Load kw\",network.nodes[agent]['schedule'][time_frame])\n",
    "    # rule fol shifting load based on flexibilty coeficient of an agent and \n",
    "    if network.nodes[agent]['flexibility_coeficient'] > att and network.nodes[agent]['schedule'][time_frame] > 2.5:\n",
    "        #shift_counter = shift_counter + 1\n",
    "        current_counts = current_counts + 1\n",
    "        \n",
    "        #print(shift_counter)\n",
    "\n",
    "    # update agent's counter\n",
    "    network.nodes[agent]['load_shifts'] =+ current_counts \n",
    "\n",
    "    #time_frame = network.nodes[agent]['schedule'][time_frame]\n",
    "    #print(time_frame, price_signal)\n",
    "    #print(time_frame, att)\n",
    "    #print(\"Load atractivity at:\", time_frame,\" = \", att )\n",
    "    #print(shift_signal)\n",
    "    \n",
    "    return current_counts\n",
    "\n",
    "    \n",
    "\n",
    "    \n"
   ]
  },
  {
   "cell_type": "code",
   "execution_count": null,
   "metadata": {},
   "outputs": [],
   "source": [
    "test.nodes[1]['schedule'][19]"
   ]
  },
  {
   "cell_type": "code",
   "execution_count": null,
   "metadata": {},
   "outputs": [],
   "source": [
    "\n",
    "for i in range(1,24):\n",
    "    shift_load(10,test,i)"
   ]
  },
  {
   "cell_type": "code",
   "execution_count": null,
   "metadata": {},
   "outputs": [],
   "source": [
    "#shift_load(1, test, 18)\n",
    "print(test.nodes[1])\n",
    "\n",
    "def restart_schedule(agent, network):\n",
    "    network.nodes[agent]['schedule'] = test_schedule\n",
    "\n",
    "#restart_schedule(1,test)\n",
    "#test.nodes[1]"
   ]
  },
  {
   "cell_type": "code",
   "execution_count": null,
   "metadata": {},
   "outputs": [],
   "source": [
    "test.nodes[2]['susceptibility']"
   ]
  },
  {
   "cell_type": "markdown",
   "metadata": {},
   "source": [
    "# Obnašanje agentov"
   ]
  },
  {
   "cell_type": "code",
   "execution_count": null,
   "metadata": {},
   "outputs": [],
   "source": [
    "def behaviour(agent, agent_network):\n",
    "     # creat list of agetns neigbours\n",
    "    neighbour_list = agent_network.nodes[agent]['neighbours']\n",
    "\n",
    "    # create empty list and store behaviour of each neighbour\n",
    "    # in this case that is flexibility_coeficient\n",
    "    behaviour_list = []\n",
    "    weight_list = []\n",
    "\n",
    "\n",
    "    # collect neighbours behaviour and weights and add them to the lists\n",
    "    for neighbour in neighbour_list:\n",
    "        behaviour_list.append(agent_network.nodes[neighbour]['flexibility_coeficient'])\n",
    "        if agent_network.nodes[neighbour]['group'] == agent_network.nodes[agent]['group']:\n",
    "            weight_list.append(0.1)\n",
    "        else:\n",
    "            weight_list.append(0.1)\n",
    "    #print('weight List: ', weight_list)  \n",
    "    \n",
    "    # get current agent flexibility \n",
    "    agent_current_flexibility = agent_network.nodes[agent]['flexibility_coeficient']\n",
    "    #print('Agents start flexibility', agent_current_flexibility)\n",
    "    \n",
    "    # set variable B, so it repsresents agent's current behaviour\n",
    "    B = agent_network.nodes[agent]['flexibility_coeficient']\n",
    "\n",
    "    # calculate behaviour diffusion\n",
    "    new_B = B + agent_network.nodes[agent]['susceptibility'] * (sum(behaviour_list[n] * weight_list[n] for n in range(len          (behaviour_list)))/ sum(weight_list) - B)\n",
    "\n",
    "\n",
    "    # update agent's behaviour inside network dictionary\n",
    "    agent_network.nodes[agent]['flexibility_coeficient'] = new_B\n",
    "    #print('Agents new flexibility', new_B)\n",
    "\n",
    "    #return agent_network.nodes[agent]['flexibility_coeficient']\n",
    "    return agent_current_flexibility"
   ]
  },
  {
   "cell_type": "code",
   "execution_count": null,
   "metadata": {},
   "outputs": [],
   "source": [
    "#testni_behaviour = behaviour(1, test)\n",
    "#testni_behaviour"
   ]
  },
  {
   "cell_type": "markdown",
   "metadata": {},
   "source": [
    "# Simulation"
   ]
  },
  {
   "cell_type": "code",
   "execution_count": null,
   "metadata": {},
   "outputs": [],
   "source": [
    "def simulation(network, days, schedule):\n",
    "    day_frame1 = {}\n",
    "    day_frame2 = {}\n",
    "    key_frame = {}\n",
    "    for day in range(0,days): #counter za 50 iteracij\n",
    "\n",
    "        #df = pd.DataFrame(columns =('Day', 'Agent group'))\n",
    "        export_data = {}\n",
    "        export_data2 = {}\n",
    "        export_key_data = {}\n",
    "        print('Dan št:',day+1)\n",
    "        for agent in network: \n",
    "        #v vsaki časovni enoti urnika nato obravnavamo vse agente, gremo preko seznama agenot in izračunamo obnašanje.\n",
    "        # potem ni važno kako ali je po urah ali 15 min resolucijo\n",
    "            \n",
    "            for key in schedule:\n",
    "                current_counts = shift_load(agent, network, key)\n",
    "                agent_group = network.nodes[agent]['group']\n",
    "                #export_key_data[agent_group, agent] = shift_counter\n",
    "                key_frame[key] = export_key_data\n",
    "                #agent_shift_counter = network.nodes[agent]['load_shifts'] + shift_counter\n",
    "\n",
    "            # agent_group = network.nodes[agent]['group']\n",
    "            agent_flexibility = network.nodes[agent]['flexibility_coeficient']\n",
    "            export_data2[agent_group, agent] = agent_flexibility\n",
    "\n",
    "            agent_shift_counter = network.nodes[agent]['load_shifts']\n",
    "            export_data[agent_group, agent] = agent_shift_counter\n",
    "\n",
    "            \n",
    "            # calculate     \n",
    "            agent_flexibility = round(behaviour(agent, network),3)\n",
    "            \n",
    "            #restart_schedule(agent,network)\n",
    "\n",
    "            day_frame1[day+1] = export_data\n",
    "            day_frame2[day+1] = export_data2\n",
    "            \n",
    "\n",
    "    df = pd.DataFrame.from_dict(day_frame1)\n",
    "    df2 = pd.DataFrame.from_dict(day_frame2)\n",
    "    df3_keys = pd.DataFrame.from_dict(key_frame)\n",
    "    return network, df, df2, df3_keys"
   ]
  },
  {
   "cell_type": "markdown",
   "metadata": {},
   "source": [
    "## Izpis podatkov \n",
    " - results -> network data \n",
    " - exported_data -> premiki ure\n",
    " - exported_data2 -> flexibility coeficient\n",
    " - exported_keys -> keys for testing\n",
    "\n",
    "## Izvedba simulacije"
   ]
  },
  {
   "cell_type": "code",
   "execution_count": null,
   "metadata": {},
   "outputs": [],
   "source": [
    "results, exported_data, exported_data2, exported_keys = simulation(test, 30, test_schedule)"
   ]
  },
  {
   "cell_type": "code",
   "execution_count": null,
   "metadata": {},
   "outputs": [],
   "source": [
    "exported_keys"
   ]
  },
  {
   "cell_type": "code",
   "execution_count": null,
   "metadata": {},
   "outputs": [],
   "source": [
    "# export za število premikov\n",
    "# nastavi indexe\n",
    "exported_data.index.names = ['Group','Id']\n",
    "exported_data.index.droplevel(level=0)\n",
    "exported_data"
   ]
  },
  {
   "cell_type": "code",
   "execution_count": null,
   "metadata": {},
   "outputs": [],
   "source": [
    "\n",
    "exported_data.to_excel('output_premiki.xlsx')\n",
    "print(exported_data)\n",
    "\n",
    "#df = pd.DataFrame.from_dict(exported_data, orient='index')\n",
    "#df.set_index(['Agent_group', 'Agent'],)"
   ]
  },
  {
   "cell_type": "code",
   "execution_count": null,
   "metadata": {},
   "outputs": [],
   "source": [
    "#exported_data.plot()\n",
    "#exported_data.pivot(index='Id', columns=2)"
   ]
  },
  {
   "cell_type": "code",
   "execution_count": null,
   "metadata": {},
   "outputs": [],
   "source": [
    "#export za flexibility coeficient\n",
    "exported_data2"
   ]
  },
  {
   "cell_type": "code",
   "execution_count": null,
   "metadata": {},
   "outputs": [],
   "source": [
    "exported_data2.to_excel('output_obnašanjeagentov2.xlsx')\n",
    "exported_data2.to_csv('primer3Anormal.csv')"
   ]
  },
  {
   "cell_type": "code",
   "execution_count": null,
   "metadata": {},
   "outputs": [],
   "source": [
    "\n",
    "#figure texts\n",
    "susc = results.nodes[0]['flexibility_coeficient']\n",
    "\n",
    "\n",
    "fig = plt.figure(figsize =(15, 10))\n",
    "bp = plt.boxplot(exported_data2,showmeans=True, showfliers=False)\n",
    "plt.xlabel(\"Iteracije\")\n",
    "plt.ylabel(\"Koeficient prožnosti \")\n",
    "plt.title(\"Difuzija vedenja\")\n",
    "#plt.legend(['legend'])\n",
    "#plot = exported_data2.boxplot(grid=False)"
   ]
  },
  {
   "cell_type": "code",
   "execution_count": null,
   "metadata": {},
   "outputs": [],
   "source": [
    "exported_data2.index.names = ['Group','Id']\n",
    "#exported_data2.groupby(['Group']).mean()\n",
    "#type(exported_data2)\n",
    "#sns.pointplot(data=exported_data2.groupby('Group', as_index=False).mean(), ax=bp)\n",
    "exported_data2"
   ]
  },
  {
   "cell_type": "code",
   "execution_count": null,
   "metadata": {},
   "outputs": [],
   "source": [
    "exported_keys\n",
    "exported_keys.to_excel('output_obnašanjeagentov_keys.xlsx')"
   ]
  },
  {
   "cell_type": "code",
   "execution_count": null,
   "metadata": {},
   "outputs": [],
   "source": [
    "#dataeco = pd.read_csv('/data/workspace_files/primer3Aeco.csv', index_col=[0,1])\n",
    "#datatrad = pd.read_csv('/data/workspace_files/primer3Atrad.csv', index_col=[0,1])\n",
    "#datanormal = pd.read_csv('/data/workspace_files/primer3Anormal.csv', index_col=[0,1])\n",
    "#datatrad"
   ]
  },
  {
   "cell_type": "markdown",
   "metadata": {},
   "source": [
    "\n",
    "fig, ax = plt.subplots(figsize=(15,10))\n",
    "bp1 = ax.boxplot(dataeco,  widths=0.35, showmeans=True, showbox=False, showfliers=False, showcaps=False, meanline=True, meanprops={'color':'yellowgreen','linewidth': 8}, boxprops=None, labels=None, flierprops=None, medianprops={'color':'white','linewidth': 0}, whiskerprops={'color':'white','linewidth': 0} )\n",
    "bp2 = ax.boxplot(datatrad, widths=0.35, showmeans=True, showbox=False, showfliers=False, showcaps=False, meanline=True, meanprops={'color':'tomato','linewidth': 8}, boxprops=None, labels=None, flierprops=None, medianprops={'color':'white','linewidth': 0}, whiskerprops={'color':'white','linewidth': 0})\n",
    "bp3 = ax.boxplot(datanormal,  widths=0.35, showmeans=True, showbox=False, showfliers=False, showcaps=False, meanline=True, meanprops={'color':'steelblue','linewidth': 8}, boxprops=None, labels=None, flierprops=None, medianprops={'color':'white','linewidth': 0}, whiskerprops={'color':'white','linewidth': 0})\n",
    "\n",
    "#ax.legend([bp1[\"boxes\"][0], bp2[\"boxes\"][0], bp3[\"boxes\"][0]], ['A', 'B', 'C'], loc='upper right')\n",
    "plt.legend([bp1['means'][0], bp2['means'][2], bp3['means'][3]],['Mean ECO', 'Mean Traditional','Mean Normal'])\n",
    "plt.title('Primer 3A')\n",
    "plt.xlabel('Čas')\n",
    "plt.ylabel('Koeficient prožnosti')\n",
    "\n",
    "plt.show()"
   ]
  },
  {
   "cell_type": "code",
   "execution_count": null,
   "metadata": {},
   "outputs": [],
   "source": [
    "\n",
    "color_map = ['tomato' if results.nodes[node]['group'] == 'trad' else 'deepskyblue' if results.nodes[node]['group'] == 'normal' else 'limegreen' for node in results]\n",
    "pos = nx.circular_layout(results)\n",
    "centrality = nx.eigenvector_centrality_numpy(results)\n",
    "\n",
    "plt.figure(figsize = (16, 16))\n",
    "ax = plt.gca()\n",
    "ax.set_aspect('equal')\n",
    "\n",
    "nx.draw_networkx(results, pos, node_color= color_map, linewidths=5, width=3, edge_color=\"lightgray\")\n",
    "for node, (x,y) in pos.items():\n",
    "    shifts = results.nodes[node]['load_shifts']\n",
    "    rad = 0.05\n",
    "    #rad = shifts/20\n",
    "    circle = plt.Circle((x,y), radius=rad + shifts/500, color='lightgray')\n",
    "    plt.text(x- 3*rad, y-rad-0.1, s='Število premikov:%s'%round(shifts), fontsize=12, color='black')\n",
    "    ax.add_artist(circle)\n",
    "\n",
    "plt.show()"
   ]
  },
  {
   "cell_type": "code",
   "execution_count": null,
   "metadata": {},
   "outputs": [],
   "source": [
    "#results.nodes[12]"
   ]
  },
  {
   "cell_type": "code",
   "execution_count": null,
   "metadata": {},
   "outputs": [],
   "source": [
    "pos = nx.circular_layout(results)\n",
    "shift_counter = 0\n",
    "for node in results:\n",
    "    shift_counter = shift_counter + results.nodes[node]['load_shifts']\n",
    "\n",
    "print(\"Shifts\", shift_counter)"
   ]
  },
  {
   "cell_type": "code",
   "execution_count": null,
   "metadata": {},
   "outputs": [],
   "source": []
  }
 ],
 "metadata": {
  "kernelspec": {
   "display_name": "Python 3 (ipykernel)",
   "language": "python",
   "name": "python3"
  },
  "language_info": {
   "codemirror_mode": {
    "name": "ipython",
    "version": 3
   },
   "file_extension": ".py",
   "mimetype": "text/x-python",
   "name": "python",
   "nbconvert_exporter": "python",
   "pygments_lexer": "ipython3",
   "version": "3.8.10"
  }
 },
 "nbformat": 4,
 "nbformat_minor": 1
}
