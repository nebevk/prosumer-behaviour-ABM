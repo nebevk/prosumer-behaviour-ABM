{
 "cells": [
  {
   "cell_type": "markdown",
   "metadata": {},
   "source": [
    "# Postavitev preprostega agentnega modela: 3. Del\n",
    "Agenti in ponudniki"
   ]
  },
  {
   "cell_type": "markdown",
   "metadata": {},
   "source": [
    "### Zgradba agenta"
   ]
  },
  {
   "cell_type": "code",
   "execution_count": 1,
   "metadata": {},
   "outputs": [],
   "source": [
    "#lastnosti consumerja\n",
    "vrednost_izbire = [-1.,1.] #začetna vrednost izbire\n",
    "zacetna_izbira = []\n",
    "#lastnosti ponudnika\n",
    "vrsta_ponudnika = ['A','B','N']\n",
    "vrednost_oglasevanja = [0.8, 0.2]"
   ]
  },
  {
   "cell_type": "code",
   "execution_count": 2,
   "metadata": {},
   "outputs": [],
   "source": [
    "from copy import deepcopy \n",
    "from numpy.random import normal\n",
    "from numpy.random import gumbel\n",
    "import numpy\n",
    "#ustvarimo consumerja in mu dodamo neko naključno vrednost izbire okoli -1 ali 1 \n",
    "\n",
    "def ustvari_consumerja(vrednost_izbire,zacetna_izbira):\n",
    "    random_vrednost_izbire = normal(vrednost_izbire,0.2)\n",
    "    return [random_vrednost_izbire, zacetna_izbira]\n",
    "\n",
    "def ustvari_ponudnika(vrsta_ponudnika, vrednost_oglasevanja):\n",
    "    return [vrsta_ponudnika, vrednost_oglasevanja]"
   ]
  },
  {
   "cell_type": "code",
   "execution_count": 3,
   "metadata": {},
   "outputs": [
    {
     "data": {
      "text/plain": [
       "[-1.2514017334730523, 'A']"
      ]
     },
     "execution_count": 3,
     "metadata": {},
     "output_type": "execute_result"
    }
   ],
   "source": [
    "testni = ustvari_consumerja(vrednost_izbire[0],'A')\n",
    "testni"
   ]
  },
  {
   "cell_type": "markdown",
   "metadata": {},
   "source": [
    "### Obnašanje"
   ]
  },
  {
   "cell_type": "code",
   "execution_count": 4,
   "metadata": {},
   "outputs": [],
   "source": [
    "def izbira_ponudnika(consumer):\n",
    "    if consumer[0] >= 0.5:\n",
    "        nova_izbira = vrsta_ponudnika[0]\n",
    "    elif consumer[0] <= -0.5:\n",
    "        nova_izbira = vrsta_ponudnika[1]\n",
    "        \n",
    "    else:\n",
    "        nova_izbira = vrsta_ponudnika[2]\n",
    "    return [nova_izbira]"
   ]
  },
  {
   "cell_type": "code",
   "execution_count": 5,
   "metadata": {},
   "outputs": [
    {
     "data": {
      "text/plain": [
       "[-1.2514017334730523, 'A']"
      ]
     },
     "execution_count": 5,
     "metadata": {},
     "output_type": "execute_result"
    }
   ],
   "source": [
    "izbira_ponudnika(testni)\n",
    "testni"
   ]
  },
  {
   "cell_type": "markdown",
   "metadata": {},
   "source": [
    "### Komunikacija"
   ]
  },
  {
   "cell_type": "code",
   "execution_count": 6,
   "metadata": {},
   "outputs": [
    {
     "ename": "SyntaxError",
     "evalue": "invalid syntax (<ipython-input-6-5a26e26cfab4>, line 1)",
     "output_type": "error",
     "traceback": [
      "\u001b[1;36m  File \u001b[1;32m\"<ipython-input-6-5a26e26cfab4>\"\u001b[1;36m, line \u001b[1;32m1\u001b[0m\n\u001b[1;33m    def oglasevanje(consumer,ponudnik);\u001b[0m\n\u001b[1;37m                                      ^\u001b[0m\n\u001b[1;31mSyntaxError\u001b[0m\u001b[1;31m:\u001b[0m invalid syntax\n"
     ]
    }
   ],
   "source": [
    "def oglasevanje(consumer,ponudnik);\n",
    "\n",
    "    zacetna_vrednsot_izbire = consumer"
   ]
  },
  {
   "cell_type": "code",
   "execution_count": null,
   "metadata": {},
   "outputs": [],
   "source": [
    "\n",
    "    "
   ]
  },
  {
   "cell_type": "code",
   "execution_count": null,
   "metadata": {},
   "outputs": [],
   "source": []
  },
  {
   "cell_type": "code",
   "execution_count": null,
   "metadata": {},
   "outputs": [],
   "source": []
  },
  {
   "cell_type": "code",
   "execution_count": null,
   "metadata": {},
   "outputs": [],
   "source": []
  },
  {
   "cell_type": "code",
   "execution_count": null,
   "metadata": {},
   "outputs": [],
   "source": []
  }
 ],
 "metadata": {
  "kernelspec": {
   "display_name": "Python 3",
   "language": "python",
   "name": "python3"
  },
  "language_info": {
   "codemirror_mode": {
    "name": "ipython",
    "version": 3
   },
   "file_extension": ".py",
   "mimetype": "text/x-python",
   "name": "python",
   "nbconvert_exporter": "python",
   "pygments_lexer": "ipython3",
   "version": "3.8.5"
  }
 },
 "nbformat": 4,
 "nbformat_minor": 2
}
