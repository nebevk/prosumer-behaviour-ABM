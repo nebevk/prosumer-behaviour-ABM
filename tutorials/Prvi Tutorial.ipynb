{
 "cells": [
  {
   "cell_type": "markdown",
   "metadata": {},
   "source": [
    "# Postavitev preprostega agentnega modela: 1. Del\n",
    "Skozi spodnji postopek bomo spoznali, kako ustvariti zelo osnoven agentni sistem. Za primer bomo vzeli model prehajanja uporabnika med različnimi ponudniki neke naročnine glede na njegovo osebnost."
   ]
  },
  {
   "cell_type": "markdown",
   "metadata": {},
   "source": [
    "### Zgradba agenta\n",
    "Za začetek bomo pripravili dva seznama, ki opisujeta lastnosti ki, ki jih bomo v naslednjem koraku dodali agentu.\n",
    "1. Osebnost \n",
    "2. Izbira ponudnika\n",
    "\n",
    "<img src=\"img/zgradba agenta.jpg\" width=\"600\"/>"
   ]
  },
  {
   "cell_type": "code",
   "execution_count": 1,
   "metadata": {},
   "outputs": [],
   "source": [
    "#splošne lastnosti agenta v našem modelu\n",
    "osebnosti = ['prilagodljiv','trmast'] #osebnosti prilagodljiv in trmast\n",
    "ponudniki = ['a','b'] #ponudnika A in B"
   ]
  },
  {
   "cell_type": "markdown",
   "metadata": {},
   "source": [
    "Nato ustvarimo funkcijo za ustvarjanje agentov."
   ]
  },
  {
   "cell_type": "code",
   "execution_count": 2,
   "metadata": {},
   "outputs": [],
   "source": [
    "def ustvari_agenta(ponudniki, osebnosti):\n",
    "    return [ponudniki, osebnosti]"
   ]
  },
  {
   "cell_type": "markdown",
   "metadata": {},
   "source": [
    "V našem primeru bomo ustvarili samo dva agenta, tako da bomo lahko natančno spremljali njuno stanje skozi interakcijo. Ustvarili bomo:\n",
    "- prilagodljivega agenta s začetnim ponudnikom a \n",
    "- trmastega agenta s začetnim ponudnikom b "
   ]
  },
  {
   "cell_type": "code",
   "execution_count": 3,
   "metadata": {},
   "outputs": [
    {
     "name": "stdout",
     "output_type": "stream",
     "text": [
      "['a', 'prilagodljiv'] ['b', 'trmast']\n"
     ]
    }
   ],
   "source": [
    "prilagodljiv_agent = ustvari_agenta(ponudniki[0],osebnosti[0])\n",
    "trmast_agent = ustvari_agenta(ponudniki[1],osebnosti[1])\n",
    "\n",
    "# Izdelana agenta lahko preverimo in izpišemo\n",
    "print(prilagodljiv_agent, trmast_agent)"
   ]
  },
  {
   "cell_type": "markdown",
   "metadata": {},
   "source": [
    "### Logika odločanja\n",
    "Z nasledenjo funkcijo bomo postavili osnovno logiko za interakcijo med agenti.\n",
    "Ker bomo uporabili samo enosmerno komunikacijo bo eden izmed a agentov širil govorice, drugi pa bo samo poslušal.\n",
    "\n",
    "Logika odločanje je preprosta:\n",
    "1. V paru agentov določimo enega, ki govori in drugega, ki posluša.\n",
    "2. Če ima poslušalec istega ponudnika kot govorec, se ne zgodi nič.\n",
    "3. Prav tako se ne zgodi nič, če je agent ki posluša trmast.\n",
    "4. V primeru da je poslušalec prilagodljiv, mi priredimo ponudnika govorca.\n",
    "\n",
    "<img src=\"img/odlocitvenalogika.jpg\"/>"
   ]
  },
  {
   "cell_type": "code",
   "execution_count": 4,
   "metadata": {},
   "outputs": [],
   "source": [
    "from copy import deepcopy\n",
    "\n",
    "def interakcija(govorec, poslusalec):\n",
    "    if poslusalec[0] == govorec[0]:\n",
    "        return poslusalec\n",
    "    else:\n",
    "        if poslusalec[1] =='trmast':\n",
    "            return poslusalec\n",
    "        else:\n",
    "            poslusalec[0]=deepcopy(govorec[0]) #agentu poslusalcu spremenimo stanje ponudnika\n",
    "            return poslusalec"
   ]
  },
  {
   "cell_type": "markdown",
   "metadata": {
    "slideshow": {
     "slide_type": "fragment"
    }
   },
   "source": [
    "### Testiranje spremembe stanja \n",
    "Sedaj lahko preverimo če naša logika deluje. Najprej poglejmo kakšno je stanje z agenti."
   ]
  },
  {
   "cell_type": "code",
   "execution_count": 5,
   "metadata": {},
   "outputs": [
    {
     "name": "stdout",
     "output_type": "stream",
     "text": [
      "Prilagodljiv agent:  ['a', 'prilagodljiv']\n",
      "Trmast agent:  ['b', 'trmast']\n"
     ]
    }
   ],
   "source": [
    "print(\"Prilagodljiv agent: \", prilagodljiv_agent)\n",
    "print(\"Trmast agent: \", trmast_agent)"
   ]
  },
  {
   "cell_type": "markdown",
   "metadata": {},
   "source": [
    "Če izvedemo interakcijo med agentoma lahko v rezultatu vidimo, da se ponudnik pri prilagodljivemu agentu zamenja. "
   ]
  },
  {
   "cell_type": "code",
   "execution_count": 6,
   "metadata": {},
   "outputs": [
    {
     "name": "stdout",
     "output_type": "stream",
     "text": [
      "Prilagodljiv agent:  ['b', 'prilagodljiv']\n",
      "Trmast agent:  ['b', 'trmast']\n"
     ]
    }
   ],
   "source": [
    "sprememba_stanja = interakcija(trmast_agent, prilagodljiv_agent) #pokličemo funkcijo za interakcijo\n",
    "print(\"Prilagodljiv agent: \", prilagodljiv_agent) \n",
    "print(\"Trmast agent: \", trmast_agent)"
   ]
  },
  {
   "cell_type": "markdown",
   "metadata": {},
   "source": [
    "Če trmastemu agentu spremenimo ponudnika in ponovimo postopek, bo prilagodljiv agent spet zamenjal ponudnika. "
   ]
  },
  {
   "cell_type": "code",
   "execution_count": 7,
   "metadata": {},
   "outputs": [
    {
     "name": "stdout",
     "output_type": "stream",
     "text": [
      "Prilagodljiv agent:  ['a', 'prilagodljiv']\n",
      "Trmast agent:  ['a', 'trmast']\n"
     ]
    }
   ],
   "source": [
    "trmast_agent[0] ='a'#spremenimo ponudnika trmastemu agentu\n",
    "\n",
    "sprememba_stanja = interakcija(trmast_agent, prilagodljiv_agent) #pokličemo funkcijo za interakcijo\n",
    "print(\"Prilagodljiv agent: \", prilagodljiv_agent) \n",
    "print(\"Trmast agent: \", trmast_agent)"
   ]
  },
  {
   "cell_type": "code",
   "execution_count": null,
   "metadata": {},
   "outputs": [],
   "source": []
  },
  {
   "cell_type": "code",
   "execution_count": null,
   "metadata": {},
   "outputs": [],
   "source": []
  }
 ],
 "metadata": {
  "kernelspec": {
   "display_name": "Python 3",
   "language": "python",
   "name": "python3"
  },
  "language_info": {
   "codemirror_mode": {
    "name": "ipython",
    "version": 3
   },
   "file_extension": ".py",
   "mimetype": "text/x-python",
   "name": "python",
   "nbconvert_exporter": "python",
   "pygments_lexer": "ipython3",
   "version": "3.8.5"
  }
 },
 "nbformat": 4,
 "nbformat_minor": 2
}
