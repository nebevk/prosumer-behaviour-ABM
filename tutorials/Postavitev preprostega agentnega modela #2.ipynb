{
 "cells": [
  {
   "cell_type": "markdown",
   "metadata": {},
   "source": [
    "# Postavitev preprostega agentnega modela: 2. Del\n",
    "V spodnjem postopku bomo nekoliko nadgradili model iz prejšnjega dela. Namesto da bomo imeli samo dva ponudnika, bomo uvedli vrednost izbire, s katero bomo spremljali ali so agenti bolj naklonjeni pozitivni ali negativni strani.\n",
    "\n",
    "### Zgradba agenta\n",
    "\n",
    "Tako kot v prejšnem modelu bomo pripravili seznama za lastnosti agentov in funkcijo za izdelavo agentov.\n",
    "\n",
    "<img src=\"img/zgradbaagenta2.jpg\" width=\"600\"/>"
   ]
  },
  {
   "cell_type": "code",
   "execution_count": 117,
   "metadata": {},
   "outputs": [],
   "source": [
    "vrednost_izbire = [-1.,1.] #začetna vrednost izbire\n",
    "osebnosti = ['trmast','prilagodljiv']"
   ]
  },
  {
   "cell_type": "code",
   "execution_count": 118,
   "metadata": {},
   "outputs": [],
   "source": [
    "def ustvari_agenta(vrednost_izbire, osebnosti):\n",
    "    return [vrednost_izbire, osebnosti]"
   ]
  },
  {
   "cell_type": "markdown",
   "metadata": {},
   "source": [
    "### Naključna vrednost\n",
    "\n",
    "Agentom bomo prilagodili vrednost izbire tako, da ji bomo dodali naključno vrednost normalne porazdelitve. Za center normalne porazdelitve bomo uporabili začetno vrednost izibre agenta.\n",
    "<img src=\"img/porazdelitev.png\" width=\"400\"/>"
   ]
  },
  {
   "cell_type": "code",
   "execution_count": 119,
   "metadata": {},
   "outputs": [
    {
     "name": "stdout",
     "output_type": "stream",
     "text": [
      "[-0.5197918038271974, 'trmast']\n",
      "[1.0930946642018127, 'prilagodljiv']\n"
     ]
    }
   ],
   "source": [
    "from copy import deepcopy \n",
    "from numpy.random import normal\n",
    "from numpy.random import gumbel\n",
    "import numpy\n",
    "\n",
    "def vrsta_distribucije(agent):\n",
    "    distribucija_agenta = normal(agent[0],0.2) #dodamo gaussovo porazdelitev s centrom in standardnim odklonom 0,2\n",
    "    return distribucija_agenta\n",
    "\n",
    "#preizkusimo če deluje\n",
    "testni_agent1 = [-1,'trmast']\n",
    "testni_agent2 = [1,'prilagodljiv']\n",
    "testni_agent1[0] = vrsta_distribucije(testni_agent1)\n",
    "testni_agent2[0] = vrsta_distribucije(testni_agent2)\n",
    "print(testni_agent1)\n",
    "print(testni_agent2)"
   ]
  },
  {
   "cell_type": "markdown",
   "metadata": {},
   "source": [
    "### Logika odločanja\n",
    "\n",
    "V naslednjem koraku bomo v model dodali logiko odločanja, oziroma funkcijo, s katero bo agent pridobival znanje od drugih agentov. Agent se bo znanju prilagajal glede na njegovo osebnost. \n",
    "1. Prilagodljivi agenti se bodo agentu s katerim komunicirajo približali za polovico razdalje med njunima vrednostima izbire.\n",
    "2. Trmast agent ne bo popolnoma trmast ampak se bo prav tako rahlo prilagajal. Njegova vrednost izbire se bo za eno desetino razdalje približala agentu s katerim komunicira.\n",
    "\n",
    "<img src=\"img/odlocitvenalogika2.jpg\" width=\"600\"/>"
   ]
  },
  {
   "cell_type": "code",
   "execution_count": 120,
   "metadata": {},
   "outputs": [],
   "source": [
    "def pridobiti_znanje(distribucija,agent):\n",
    "    nova_izbira = 0\n",
    "    #if random.random() <= 0.2:\n",
    "    if agent[1] == \"prilagodljiv\": #pogoj če je agent prilagodljiv\n",
    "        nova_izbira = (agent[0] + distribucija) / 2.\n",
    "    else: #pogoj ki se izvede ko je agent trmast\n",
    "        razlika = abs(distribucija-agent[0])\n",
    "        if distribucija > agent[0]:\n",
    "            nova_izbira = agent[0] + (razlika/10.)\n",
    "        else:\n",
    "            novo_izbira = agent[0] - (razlika/10.)\n",
    "    agent[0] = deepcopy(nova_izbira)"
   ]
  },
  {
   "cell_type": "markdown",
   "metadata": {},
   "source": [
    "Logiko še testiramo, da vidimo če deluje pravilno:\n",
    "<img src=\"img/testlogike.jpg\" width=\"600\"/>"
   ]
  },
  {
   "cell_type": "code",
   "execution_count": 121,
   "metadata": {},
   "outputs": [
    {
     "name": "stdout",
     "output_type": "stream",
     "text": [
      "Prilagodljiv agent [0.0, 'prilagodljiv']\n",
      "Trmast agent [-0.8, 'trmast']\n"
     ]
    }
   ],
   "source": [
    "trmast_agent = [-1,'trmast']\n",
    "prilagodljiv_agent = [-1,'prilagodljiv']\n",
    "\n",
    "pridobiti_znanje(1, trmast_agent)\n",
    "pridobiti_znanje(1, prilagodljiv_agent)\n",
    "\n",
    "print(\"Prilagodljiv agent\", prilagodljiv_agent)\n",
    "print(\"Trmast agent\", trmast_agent)"
   ]
  },
  {
   "cell_type": "markdown",
   "metadata": {},
   "source": [
    "### Komunikacija\n",
    "Z naslednjo funkcijo bomo opisali komunikacijo med dvema agentoma. Funkcija naprej pokliče funkcijo, ki agentu določi vrednost iz distribucijo, nato pa fukncijo za pridobivanje znanja, ki agentoma prilagodi vrednost izbire. "
   ]
  },
  {
   "cell_type": "code",
   "execution_count": 122,
   "metadata": {},
   "outputs": [],
   "source": [
    "def pogovor(agent1,agent2):\n",
    "    #najprej pridobimo vrednosti distribuceja za vsakega agenta\n",
    "    agent1_distribucija = vrsta_distribucije(agent1)\n",
    "    agent2_distribucija = vrsta_distribucije(agent2)\n",
    "    #med agentoma prenesemo znanje\n",
    "    pridobiti_znanje(agent2_distribucija,agent1)\n",
    "    pridobiti_znanje(agent1_distribucija,agent2)\n",
    "    \n",
    "    return agent1_distribucija, agent2_distribucija, agent1, agent2\n"
   ]
  },
  {
   "cell_type": "markdown",
   "metadata": {},
   "source": [
    "Če testiramo komunikacijo na prejšnih dveh agentih lahko opazujemo kako se jima spremeni vrednost izbire. "
   ]
  },
  {
   "cell_type": "code",
   "execution_count": 123,
   "metadata": {},
   "outputs": [
    {
     "name": "stdout",
     "output_type": "stream",
     "text": [
      "Prilagodljiv agent [-0.3534478080280055, 'prilagodljiv']\n",
      "Trmast agent [-0.7087395356342091, 'trmast']\n"
     ]
    }
   ],
   "source": [
    "pogovor(trmast_agent,prilagodljiv_agent)\n",
    "print(\"Prilagodljiv agent\", prilagodljiv_agent)\n",
    "print(\"Trmast agent\", trmast_agent)"
   ]
  },
  {
   "cell_type": "markdown",
   "metadata": {},
   "source": [
    "### Simulacija\n",
    "Pri simulaciji bomo najprej ustvarili funkcijo, ki nam ustvari večje število agentov. Funkcija bo poskrbela da se osebnosti in vrednosti izbire agentom določajo naključno, tako da dobimo množico agentov, ki se med seboj razlikujejo "
   ]
  },
  {
   "cell_type": "code",
   "execution_count": 124,
   "metadata": {},
   "outputs": [],
   "source": [
    "import random\n",
    "def ustvari_populacijo(st_agentov):\n",
    "    populacija = []\n",
    "    \n",
    "    for i in range(st_agentov):\n",
    "        m = random.randint(0,1)\n",
    "        p = random.randint(0,1)\n",
    "        agent = ustvari_agenta(vrednost_izbire[m], osebnosti[p])\n",
    "        #agenta dodamo v seznam populacija\n",
    "        populacija.append(agent)\n",
    "\n",
    "    return populacija"
   ]
  },
  {
   "cell_type": "markdown",
   "metadata": {},
   "source": [
    "Testiramo funkcijo za izdelavo populacije agentov:"
   ]
  },
  {
   "cell_type": "code",
   "execution_count": 125,
   "metadata": {},
   "outputs": [
    {
     "data": {
      "text/plain": [
       "[[-1.0, 'trmast'],\n",
       " [1.0, 'trmast'],\n",
       " [-1.0, 'trmast'],\n",
       " [-1.0, 'prilagodljiv'],\n",
       " [1.0, 'prilagodljiv'],\n",
       " [-1.0, 'prilagodljiv'],\n",
       " [-1.0, 'trmast'],\n",
       " [-1.0, 'trmast'],\n",
       " [1.0, 'prilagodljiv'],\n",
       " [1.0, 'prilagodljiv']]"
      ]
     },
     "execution_count": 125,
     "metadata": {},
     "output_type": "execute_result"
    }
   ],
   "source": [
    "ustvari_populacijo(10)"
   ]
  },
  {
   "cell_type": "markdown",
   "metadata": {},
   "source": [
    "Zaenkrat lahko samo ustvarimo veliko populacijo agentov. Agente moramo pripeljati do tega, da se srečajo in izvedejo interakcijo. Da bodo ta srečanja naključna bomo ustvarili naslednjo funkcijo, ki bo iz celotne populacije agentov naključno izbirala pare agentov. "
   ]
  },
  {
   "cell_type": "code",
   "execution_count": 126,
   "metadata": {},
   "outputs": [],
   "source": [
    "from numpy.random import choice\n",
    "\n",
    "def izberi_par(populacija):\n",
    "    i = random.randint(0, len(populacija) - 1) \n",
    "    j = random.randint(0, len(populacija) - 1)\n",
    "    \n",
    "    while i == j:\n",
    "        j = random.randint(0, len(populacija) - 1)\n",
    "        \n",
    "    return populacija[i], populacija[j]"
   ]
  },
  {
   "cell_type": "markdown",
   "metadata": {},
   "source": [
    "Ko uredimo srečanja agentov se lahko lotimo simulacije večjega števila agentov. V ta namen bomo ustvarili naslednjo funkcijo, s katero pokličemo prej ustvarjeni funkciji za izdelavo množice agentov in izbiro parov agentov. Dunkciji bomo dodali tudi argument s katerim bomo funkciji sporočili kolikokrat naj se izvede. V namen prikaza ki sledi bomo s funkcijo tudi shranili seznam začetne populacije."
   ]
  },
  {
   "cell_type": "code",
   "execution_count": 127,
   "metadata": {},
   "outputs": [],
   "source": [
    "def simulacija(stevilo_agentov, stevilo_simulacij):\n",
    "    \n",
    "    zacetna_populacija = ustvari_populacijo(stevilo_agentov)\n",
    "    populacija=deepcopy(zacetna_populacija)\n",
    "    \n",
    "    for i in range(stevilo_simulacij):\n",
    "        \n",
    "        par_agentov = izberi_par(populacija)\n",
    "        #print(par_agentov[0],par_agentov[1])\n",
    "        pogovor(par_agentov[0],par_agentov[1])\n",
    "    \n",
    "    return zacetna_populacija, populacija"
   ]
  },
  {
   "cell_type": "markdown",
   "metadata": {},
   "source": [
    "Z naslednjo vrstico bomo pognali simulacijo in ustvarili spremenljivki, ki vsebujeta seznama populacije agentov pred začetkom simulacije in seznam agentov po koncu simulacije."
   ]
  },
  {
   "cell_type": "code",
   "execution_count": 128,
   "metadata": {},
   "outputs": [],
   "source": [
    "populacija_zacetek, populacija_konec = simulacija(100,2000)"
   ]
  },
  {
   "cell_type": "code",
   "execution_count": 129,
   "metadata": {},
   "outputs": [
    {
     "name": "stdout",
     "output_type": "stream",
     "text": [
      "Zacetek [-1.0, 'trmast']\n",
      "Zacetek [1.0, 'prilagodljiv']\n",
      "Zacetek [1.0, 'prilagodljiv']\n",
      "Zacetek [-1.0, 'trmast']\n",
      "Zacetek [1.0, 'prilagodljiv']\n",
      "Konec [0, 'trmast']\n",
      "Konec [0.10329465054721673, 'prilagodljiv']\n",
      "Konec [0.05242021640433611, 'prilagodljiv']\n",
      "Konec [0, 'trmast']\n",
      "Konec [-0.175483032504271, 'prilagodljiv']\n"
     ]
    }
   ],
   "source": [
    "for i in range(5):\n",
    "    print(\"Zacetek\",populacija_zacetek[i])\n",
    "for i in range(5):\n",
    "    print(\"Konec\", populacija_konec[i])"
   ]
  },
  {
   "cell_type": "markdown",
   "metadata": {},
   "source": [
    "Na koncu bomo prikazali histogram, ki prikazuje razporeditev vrednosti izbire pred in po simulaciji."
   ]
  },
  {
   "cell_type": "code",
   "execution_count": 130,
   "metadata": {},
   "outputs": [
    {
     "data": {
      "image/png": "[encoded data removed]",
      "text/plain": [
       "<Figure size 432x288 with 1 Axes>"
      ]
     },
     "metadata": {
      "needs_background": "light"
     },
     "output_type": "display_data"
    }
   ],
   "source": [
    "%matplotlib inline \n",
    "import matplotlib.pyplot as plt\n",
    "#import seaborn as sns \n",
    "\n",
    "zacetna_izbira = []\n",
    "koncna_izbira = []\n",
    "\n",
    "for agent in range(len(populacija_zacetek)):\n",
    "    zacetna_izbira.append(populacija_zacetek[agent][0])\n",
    "    koncna_izbira.append(populacija_konec[agent][0])\n",
    "    \n",
    "plt.hist(zacetna_izbira, label='Zacetna vrednost izbire agentov')\n",
    "plt.hist(koncna_izbira, label='Vrednost izbire po simulaciji')\n",
    "plt.legend(loc='upper center')\n",
    "plt.show()"
   ]
  },
  {
   "cell_type": "code",
   "execution_count": null,
   "metadata": {},
   "outputs": [],
   "source": []
  },
  {
   "cell_type": "code",
   "execution_count": null,
   "metadata": {},
   "outputs": [],
   "source": []
  }
 ],
 "metadata": {
  "kernelspec": {
   "display_name": "Python 3",
   "language": "python",
   "name": "python3"
  },
  "language_info": {
   "codemirror_mode": {
    "name": "ipython",
    "version": 3
   },
   "file_extension": ".py",
   "mimetype": "text/x-python",
   "name": "python",
   "nbconvert_exporter": "python",
   "pygments_lexer": "ipython3",
   "version": "3.8.5"
  }
 },
 "nbformat": 4,
 "nbformat_minor": 2
}
