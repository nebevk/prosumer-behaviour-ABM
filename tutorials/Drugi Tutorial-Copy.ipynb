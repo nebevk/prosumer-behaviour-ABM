{
  "cells": [
    {
      "metadata": {
        "trusted": true
      },
      "cell_type": "markdown",
      "source": "# Postavitev preprostega agentnega modela: 3. Del"
    },
    {
      "metadata": {
        "trusted": true
      },
      "cell_type": "code",
      "source": "",
      "execution_count": null,
      "outputs": []
    },
    {
      "metadata": {
        "trusted": true
      },
      "cell_type": "code",
      "source": "vrednost_izbire = [-1.,1.] #začetna vrednost izbire\nosebnosti = ['trmast','prilagodljiv']",
      "execution_count": 1,
      "outputs": []
    },
    {
      "metadata": {
        "trusted": true
      },
      "cell_type": "code",
      "source": "def ustvari_agenta(vrednost_izbire, osebnosti):\n    return [vrednost_izbire, osebnosti]",
      "execution_count": 54,
      "outputs": []
    },
    {
      "metadata": {},
      "cell_type": "markdown",
      "source": "Agentom bomo prilagodili vrednost izbire tako, da ji bomo dodali naključno vrednost normalne porazdelitve. Za center normalne porazdelitve bomo uporabili začetno vrednost izibre agenta. "
    },
    {
      "metadata": {
        "trusted": true
      },
      "cell_type": "code",
      "source": "from copy import deepcopy \nfrom numpy.random import normal\nimport numpy\n\ndef vrsta_distribucije(agent):\n    distribucija_agenta = normal(agent[0],0.25) #dodamo gaussovo porazdelitev s centrom standardnim odklonom 0,25\n    return distribucija_agenta\n\n#preizkusimo če deluje\ntestni_agent1 = [-1,'trmast']\ntestni_agent2 = [1,'prilagodljiv']\ntestni_agent1[0] = vrsta_distribucije(testni_agent1)\ntestni_agent2[0] = vrsta_distribucije(testni_agent2)\nprint(testni_agent1)\nprint(testni_agent2)",
      "execution_count": 55,
      "outputs": [
        {
          "output_type": "stream",
          "text": "[-0.6588307353880806, 'trmast']\n[0.7949531766790183, 'prilagodljiv']\n",
          "name": "stdout"
        }
      ]
    },
    {
      "metadata": {},
      "cell_type": "markdown",
      "source": "V naslednjem koraku bomo v model dodali logiko odločanja, oziroma funkcijo, s katero bo agent pridobival znanje od drugih agentov. Agent se bo znanju prilagajal glede na njegovo osebnost. \n1. Prilagodljivi agenti se bodo agentu s katerim komunicirajo približali za polovico razdalje med njunima vrednostima izbire.\n2. Trmast agent ne bo popolnoma trmast ampak se bo prav tako rahlo prilagajal. Njegova vrednost izbire se bo za eno desetino razdalje približala agentu s katerim komunicira."
    },
    {
      "metadata": {
        "trusted": true
      },
      "cell_type": "code",
      "source": "import random\n\ndef pridobiti_znanje(distribucija,agent):\n    if random.random() <= 0.2:\n        nova_izbira = 0\n        if agent[1] == \"prilagodljiv\": #pogoj če je agent prilagodljiv\n            nova_izbira = (agent[0] + distribucija) / 2.\n        else: #pogoj ki se izvede ko je agent trmast\n            razlika = abs(distribucija-agent[0])\n            if distribucija > agent[0]:\n                nova_izbira = agent[0] + (razlika/10.)\n            else:\n                novo_izbira = agent[0] - (razlika/10.)\n        agent[0] = deepcopy(nova_izbira)",
      "execution_count": 123,
      "outputs": []
    },
    {
      "metadata": {},
      "cell_type": "markdown",
      "source": "Logiko še testiramo, da vidimo če deluje pravilno:"
    },
    {
      "metadata": {
        "trusted": true
      },
      "cell_type": "code",
      "source": "trmast_agent = [-1,'trmast']\nprilagodljiv_agent = [-1,'prilagodljiv']\n\npridobiti_znanje(1, trmast_agent)\npridobiti_znanje(1, prilagodljiv_agent)\n\nprint(\"Prilagodljiv agent\", prilagodljiv_agent)\nprint(\"Trmast agent\", trmast_agent)",
      "execution_count": 124,
      "outputs": [
        {
          "output_type": "stream",
          "text": "Prilagodljiv agent [-1, 'prilagodljiv']\nTrmast agent [-1, 'trmast']\n",
          "name": "stdout"
        }
      ]
    },
    {
      "metadata": {},
      "cell_type": "markdown",
      "source": "Z naslednjo funkcijo bomo opisali komunikacijo med dvema agentoma. Funkcija naprej pokliče funkcijo, ki agentu določi vrednost iz distribucijo, nato pa fukncijo za pridobivanje znanja, ki agentoma prilagodi vrednost izbire. "
    },
    {
      "metadata": {
        "trusted": true
      },
      "cell_type": "code",
      "source": "def pogovor(agent1,agent2):\n    #najprej pridobimo vrednosti distribuceja za vsakega agenta\n    agent1_distribucija = vrsta_distribucije(agent1)\n    agent2_distribucija = vrsta_distribucije(agent2)\n    #med agentoma prenesemo znanje\n    pridobiti_znanje(agent2_distribucija,agent1)\n    pridobiti_znanje(agent1_distribucija,agent2)\n    \n    return agent1_distribucija, agent2_distribucija, agent1, agent2",
      "execution_count": 125,
      "outputs": []
    },
    {
      "metadata": {},
      "cell_type": "markdown",
      "source": "Če testiramo našo komunikacijo na prejšnih dveh agentih lahko opazujemo kako se jima spremeni vrednost izbire. "
    },
    {
      "metadata": {
        "trusted": true
      },
      "cell_type": "code",
      "source": "pogovor(trmast_agent,prilagodljiv_agent)\nprint(\"Prilagodljiv agent\", prilagodljiv_agent)\nprint(\"Trmast agent\", trmast_agent)",
      "execution_count": 126,
      "outputs": [
        {
          "output_type": "stream",
          "text": "Prilagodljiv agent [-1, 'prilagodljiv']\nTrmast agent [-1, 'trmast']\n",
          "name": "stdout"
        }
      ]
    },
    {
      "metadata": {
        "trusted": true
      },
      "cell_type": "markdown",
      "source": "### Simulacija "
    },
    {
      "metadata": {
        "trusted": true
      },
      "cell_type": "code",
      "source": "import random\n\ndef ustvari_populacijo(st_agentov):\n    \n    populacija = []\n    \n    for i in range(st_agentov):\n        \n        m = random.randint(0,1)\n        \n        p = random.randint(0,1)\n        \n        agent = ustvari_agenta(vrednost_izbire[m], osebnosti[p])\n        #agenta dodamo v seznam populacija\n        populacija.append(agent)\n\n    return populacija",
      "execution_count": 127,
      "outputs": []
    },
    {
      "metadata": {
        "trusted": true
      },
      "cell_type": "code",
      "source": "ustvari_populacijo(10)",
      "execution_count": 128,
      "outputs": [
        {
          "output_type": "execute_result",
          "execution_count": 128,
          "data": {
            "text/plain": "[[1.0, 'prilagodljiv'],\n [-1.0, 'trmast'],\n [1.0, 'trmast'],\n [1.0, 'prilagodljiv'],\n [-1.0, 'trmast'],\n [1.0, 'trmast'],\n [1.0, 'trmast'],\n [1.0, 'prilagodljiv'],\n [-1.0, 'prilagodljiv'],\n [1.0, 'prilagodljiv']]"
          },
          "metadata": {}
        }
      ]
    },
    {
      "metadata": {
        "trusted": true
      },
      "cell_type": "code",
      "source": "from numpy.random import choice\n\ndef izberi_par(populacija):\n    i = random.randint(0, len(populacija) - 1) \n    j = random.randint(0, len(populacija) - 1)\n    \n    while i == j:\n        j = random.randint(0, len(populacija) - 1)\n        \n    return populacija[i], populacija[j]\n\ndef simulacija(stevilo_agentov, stevilo_simulacij):\n    \n    zacetna_populacija = ustvari_populacijo(stevilo_agentov)\n    populacija=deepcopy(zacetna_populacija)\n    \n    for i in range(stevilo_simulacij):\n        \n        par_agentov = izberi_par(populacija)\n        #print(par_agentov[0],par_agentov[1])\n        pogovor(par_agentov[0],par_agentov[1])\n    \n    return zacetna_populacija, populacija",
      "execution_count": 129,
      "outputs": []
    },
    {
      "metadata": {
        "trusted": true
      },
      "cell_type": "code",
      "source": "populacija_zacetek, populacija_konec = simulacija(50,200)",
      "execution_count": 130,
      "outputs": []
    },
    {
      "metadata": {
        "trusted": true
      },
      "cell_type": "code",
      "source": "%matplotlib inline \nimport matplotlib.pyplot as plt\nimport seaborn as sns \n\nzacetna_izbira = []\nkoncna_izbira = []\n\nfor agent in range(len(populacija_zacetek)):\n    zacetna_izbira.append(populacija_zacetek[agent][0])\n    koncna_izbira.append(populacija_konec[agent][0])\n    \nplt.hist(zacetna_izbira, label='Zacetna vrednost izbire agentov')\nplt.hist(koncna_izbira, label='Vrednost izbire po simulaciji')\nplt.legend(loc='upper center')\nplt.show()",
      "execution_count": 131,
      "outputs": [
        {
          "output_type": "display_data",
          "data": {
            "image/png": "[encoded data removed]",
            "text/plain": "<Figure size 432x288 with 1 Axes>"
          },
          "metadata": {
            "needs_background": "light"
          }
        }
      ]
    },
    {
      "metadata": {
        "trusted": true
      },
      "cell_type": "code",
      "source": "",
      "execution_count": null,
      "outputs": []
    }
  ],
  "metadata": {
    "kernelspec": {
      "name": "python36",
      "display_name": "Python 3.6",
      "language": "python"
    },
    "language_info": {
      "mimetype": "text/x-python",
      "nbconvert_exporter": "python",
      "name": "python",
      "pygments_lexer": "ipython3",
      "version": "3.6.6",
      "file_extension": ".py",
      "codemirror_mode": {
        "version": 3,
        "name": "ipython"
      }
    }
  },
  "nbformat": 4,
  "nbformat_minor": 2
}