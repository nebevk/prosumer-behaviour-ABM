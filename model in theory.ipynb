{
 "cells": [
  {
   "cell_type": "code",
   "execution_count": 8,
   "metadata": {
    "collapsed": true
   },
   "outputs": [],
   "source": [
    "from matplotlib import pyplot as plt\n",
    "import matplotlib as mpl\n",
    "import numpy as np\n",
    "import itertools\n",
    "import random\n",
    "import copy\n",
    "import pandas as pd\n",
    "import networkx as nx\n",
    "from matplotlib import animation\n",
    "import seaborn as sns\n",
    "plt.style.use(\"seaborn-dark-palette\")"
   ]
  },
  {
   "cell_type": "code",
   "execution_count": 9,
   "outputs": [],
   "source": [
    "def create_agent_data_fixed_groups(num_eco,num_trad,num_normal) -> int:\n",
    "    #load schedhule and load data\n",
    "    data = pd.read_excel(r'notebooks/data/workspace_files/basic_load_profile.xlsx')\n",
    "    data = data.set_index('time')\n",
    "    #store data in schedule dictionary key=hour, pair= load [kW]\n",
    "    schedule = {}\n",
    "    susceptibility = 0.1\n",
    "    group_weight = 0.1\n",
    "\n",
    "    for index, row in data.iterrows():\n",
    "        schedule[index] = row['load_1']\n",
    "    print(schedule)\n",
    "\n",
    "    # create groups\n",
    "    groups = ['eco', 'normal', 'trad']\n",
    "    # create dataframe to store agent info\n",
    "    data_frame = pd.DataFrame(columns= ['id'])\n",
    "\n",
    "    # for each agent add following attributes\n",
    "    for agent in range(num_eco):\n",
    "        group = groups[0]\n",
    "        group_weight = group_weight\n",
    "        flexibility_coeficient = 0.8\n",
    "        conv_weight = 0.5\n",
    "        price_weight = 0.5\n",
    "\n",
    "        data = {\n",
    "            'schedule': schedule,\n",
    "            'group_weight': group_weight,\n",
    "            'flexibility_coeficient': flexibility_coeficient,\n",
    "            'susceptibility': susceptibility,\n",
    "            'group': group,\n",
    "            #'group_weight': group_weight,\n",
    "            'shifted_hours': 0,\n",
    "            'conv_weight': conv_weight,\n",
    "            'price_weight': price_weight\n",
    "        }\n",
    "        data_frame = data_frame.append(data, ignore_index=True)\n",
    "\n",
    "    for agent in range(num_normal):\n",
    "        group = groups[1]\n",
    "        group_weight = group_weight\n",
    "        flexibility_coeficient = 0.5\n",
    "        conv_weight = 1\n",
    "        price_weight = 0.5\n",
    "\n",
    "        data = {\n",
    "            'schedule': schedule,\n",
    "            'group_weight': group_weight,\n",
    "            'flexibility_coeficient': flexibility_coeficient,\n",
    "            'susceptibility': susceptibility,\n",
    "            'group': group,\n",
    "            #'group_weight': group_weight,\n",
    "            'shifted_hours': 0,\n",
    "            'conv_weight': conv_weight,\n",
    "            'price_weight': price_weight\n",
    "            }\n",
    "        data_frame = data_frame.append(data, ignore_index=True)\n",
    "\n",
    "    for agent in range(num_trad):\n",
    "        group = groups[2]\n",
    "        group_weight = group_weight\n",
    "        flexibility_coeficient = 0.3\n",
    "        conv_weight = 1\n",
    "        price_weight = 1\n",
    "\n",
    "        data = {'schedule': schedule,\n",
    "                'group_weight': group_weight,\n",
    "                'flexibility_coeficient': flexibility_coeficient,\n",
    "                'susceptibility': susceptibility,\n",
    "                'group': group,\n",
    "                #'group_weight': group_weight,\n",
    "                'shifted_hours': 0,\n",
    "                'conv_weight': conv_weight,\n",
    "                'price_weight': price_weight\n",
    "                }\n",
    "\n",
    "\n",
    "        data_frame = data_frame.append(data, ignore_index=True)\n",
    "\n",
    "    data_frame.insert(0,'New_id', range(0,len(data_frame)))\n",
    "    #print(data_frame.index.tolist())\n",
    "    return data_frame.set_index('New_id')# Return dataframve with index ID"
   ],
   "metadata": {
    "collapsed": false,
    "pycharm": {
     "name": "#%%\n"
    }
   }
  },
  {
   "cell_type": "code",
   "execution_count": 7,
   "outputs": [
    {
     "name": "stdout",
     "output_type": "stream",
     "text": [
      "{1: 0.1, 2: 0.1, 3: 0.1, 4: 0.1, 5: 0.2, 6: 0.1, 7: 0.1, 8: 0.1, 9: 0.1, 10: 0.1, 11: 0.1, 12: 0.1, 13: 0.1, 14: 0.1, 15: 1.5, 16: 1.5, 17: 0.1, 18: 2.0, 19: 3.0, 20: 2.0, 21: 1.0, 22: 0.2, 23: 0.2, 24: 0.1}\n"
     ]
    },
    {
     "data": {
      "text/plain": "        id  conv_weight  flexibility_coeficient   group  group_weight  \\\nNew_id                                                                  \n0      NaN          0.5                     0.8     eco           0.1   \n1      NaN          0.5                     0.8     eco           0.1   \n2      NaN          0.5                     0.8     eco           0.1   \n3      NaN          0.5                     0.8     eco           0.1   \n4      NaN          1.0                     0.5  normal           0.1   \n5      NaN          1.0                     0.5  normal           0.1   \n6      NaN          1.0                     0.5  normal           0.1   \n7      NaN          1.0                     0.5  normal           0.1   \n8      NaN          1.0                     0.3    trad           0.1   \n9      NaN          1.0                     0.3    trad           0.1   \n10     NaN          1.0                     0.3    trad           0.1   \n11     NaN          1.0                     0.3    trad           0.1   \n\n        price_weight                                           schedule  \\\nNew_id                                                                    \n0                0.5  {1: 0.1, 2: 0.1, 3: 0.1, 4: 0.1, 5: 0.2, 6: 0....   \n1                0.5  {1: 0.1, 2: 0.1, 3: 0.1, 4: 0.1, 5: 0.2, 6: 0....   \n2                0.5  {1: 0.1, 2: 0.1, 3: 0.1, 4: 0.1, 5: 0.2, 6: 0....   \n3                0.5  {1: 0.1, 2: 0.1, 3: 0.1, 4: 0.1, 5: 0.2, 6: 0....   \n4                0.5  {1: 0.1, 2: 0.1, 3: 0.1, 4: 0.1, 5: 0.2, 6: 0....   \n5                0.5  {1: 0.1, 2: 0.1, 3: 0.1, 4: 0.1, 5: 0.2, 6: 0....   \n6                0.5  {1: 0.1, 2: 0.1, 3: 0.1, 4: 0.1, 5: 0.2, 6: 0....   \n7                0.5  {1: 0.1, 2: 0.1, 3: 0.1, 4: 0.1, 5: 0.2, 6: 0....   \n8                1.0  {1: 0.1, 2: 0.1, 3: 0.1, 4: 0.1, 5: 0.2, 6: 0....   \n9                1.0  {1: 0.1, 2: 0.1, 3: 0.1, 4: 0.1, 5: 0.2, 6: 0....   \n10               1.0  {1: 0.1, 2: 0.1, 3: 0.1, 4: 0.1, 5: 0.2, 6: 0....   \n11               1.0  {1: 0.1, 2: 0.1, 3: 0.1, 4: 0.1, 5: 0.2, 6: 0....   \n\n        shifted_hours  susceptibility  \nNew_id                                 \n0                 0.0             0.1  \n1                 0.0             0.1  \n2                 0.0             0.1  \n3                 0.0             0.1  \n4                 0.0             0.1  \n5                 0.0             0.1  \n6                 0.0             0.1  \n7                 0.0             0.1  \n8                 0.0             0.1  \n9                 0.0             0.1  \n10                0.0             0.1  \n11                0.0             0.1  ",
      "text/html": "<div>\n<style scoped>\n    .dataframe tbody tr th:only-of-type {\n        vertical-align: middle;\n    }\n\n    .dataframe tbody tr th {\n        vertical-align: top;\n    }\n\n    .dataframe thead th {\n        text-align: right;\n    }\n</style>\n<table border=\"1\" class=\"dataframe\">\n  <thead>\n    <tr style=\"text-align: right;\">\n      <th></th>\n      <th>id</th>\n      <th>conv_weight</th>\n      <th>flexibility_coeficient</th>\n      <th>group</th>\n      <th>group_weight</th>\n      <th>price_weight</th>\n      <th>schedule</th>\n      <th>shifted_hours</th>\n      <th>susceptibility</th>\n    </tr>\n    <tr>\n      <th>New_id</th>\n      <th></th>\n      <th></th>\n      <th></th>\n      <th></th>\n      <th></th>\n      <th></th>\n      <th></th>\n      <th></th>\n      <th></th>\n    </tr>\n  </thead>\n  <tbody>\n    <tr>\n      <th>0</th>\n      <td>NaN</td>\n      <td>0.5</td>\n      <td>0.8</td>\n      <td>eco</td>\n      <td>0.1</td>\n      <td>0.5</td>\n      <td>{1: 0.1, 2: 0.1, 3: 0.1, 4: 0.1, 5: 0.2, 6: 0....</td>\n      <td>0.0</td>\n      <td>0.1</td>\n    </tr>\n    <tr>\n      <th>1</th>\n      <td>NaN</td>\n      <td>0.5</td>\n      <td>0.8</td>\n      <td>eco</td>\n      <td>0.1</td>\n      <td>0.5</td>\n      <td>{1: 0.1, 2: 0.1, 3: 0.1, 4: 0.1, 5: 0.2, 6: 0....</td>\n      <td>0.0</td>\n      <td>0.1</td>\n    </tr>\n    <tr>\n      <th>2</th>\n      <td>NaN</td>\n      <td>0.5</td>\n      <td>0.8</td>\n      <td>eco</td>\n      <td>0.1</td>\n      <td>0.5</td>\n      <td>{1: 0.1, 2: 0.1, 3: 0.1, 4: 0.1, 5: 0.2, 6: 0....</td>\n      <td>0.0</td>\n      <td>0.1</td>\n    </tr>\n    <tr>\n      <th>3</th>\n      <td>NaN</td>\n      <td>0.5</td>\n      <td>0.8</td>\n      <td>eco</td>\n      <td>0.1</td>\n      <td>0.5</td>\n      <td>{1: 0.1, 2: 0.1, 3: 0.1, 4: 0.1, 5: 0.2, 6: 0....</td>\n      <td>0.0</td>\n      <td>0.1</td>\n    </tr>\n    <tr>\n      <th>4</th>\n      <td>NaN</td>\n      <td>1.0</td>\n      <td>0.5</td>\n      <td>normal</td>\n      <td>0.1</td>\n      <td>0.5</td>\n      <td>{1: 0.1, 2: 0.1, 3: 0.1, 4: 0.1, 5: 0.2, 6: 0....</td>\n      <td>0.0</td>\n      <td>0.1</td>\n    </tr>\n    <tr>\n      <th>5</th>\n      <td>NaN</td>\n      <td>1.0</td>\n      <td>0.5</td>\n      <td>normal</td>\n      <td>0.1</td>\n      <td>0.5</td>\n      <td>{1: 0.1, 2: 0.1, 3: 0.1, 4: 0.1, 5: 0.2, 6: 0....</td>\n      <td>0.0</td>\n      <td>0.1</td>\n    </tr>\n    <tr>\n      <th>6</th>\n      <td>NaN</td>\n      <td>1.0</td>\n      <td>0.5</td>\n      <td>normal</td>\n      <td>0.1</td>\n      <td>0.5</td>\n      <td>{1: 0.1, 2: 0.1, 3: 0.1, 4: 0.1, 5: 0.2, 6: 0....</td>\n      <td>0.0</td>\n      <td>0.1</td>\n    </tr>\n    <tr>\n      <th>7</th>\n      <td>NaN</td>\n      <td>1.0</td>\n      <td>0.5</td>\n      <td>normal</td>\n      <td>0.1</td>\n      <td>0.5</td>\n      <td>{1: 0.1, 2: 0.1, 3: 0.1, 4: 0.1, 5: 0.2, 6: 0....</td>\n      <td>0.0</td>\n      <td>0.1</td>\n    </tr>\n    <tr>\n      <th>8</th>\n      <td>NaN</td>\n      <td>1.0</td>\n      <td>0.3</td>\n      <td>trad</td>\n      <td>0.1</td>\n      <td>1.0</td>\n      <td>{1: 0.1, 2: 0.1, 3: 0.1, 4: 0.1, 5: 0.2, 6: 0....</td>\n      <td>0.0</td>\n      <td>0.1</td>\n    </tr>\n    <tr>\n      <th>9</th>\n      <td>NaN</td>\n      <td>1.0</td>\n      <td>0.3</td>\n      <td>trad</td>\n      <td>0.1</td>\n      <td>1.0</td>\n      <td>{1: 0.1, 2: 0.1, 3: 0.1, 4: 0.1, 5: 0.2, 6: 0....</td>\n      <td>0.0</td>\n      <td>0.1</td>\n    </tr>\n    <tr>\n      <th>10</th>\n      <td>NaN</td>\n      <td>1.0</td>\n      <td>0.3</td>\n      <td>trad</td>\n      <td>0.1</td>\n      <td>1.0</td>\n      <td>{1: 0.1, 2: 0.1, 3: 0.1, 4: 0.1, 5: 0.2, 6: 0....</td>\n      <td>0.0</td>\n      <td>0.1</td>\n    </tr>\n    <tr>\n      <th>11</th>\n      <td>NaN</td>\n      <td>1.0</td>\n      <td>0.3</td>\n      <td>trad</td>\n      <td>0.1</td>\n      <td>1.0</td>\n      <td>{1: 0.1, 2: 0.1, 3: 0.1, 4: 0.1, 5: 0.2, 6: 0....</td>\n      <td>0.0</td>\n      <td>0.1</td>\n    </tr>\n  </tbody>\n</table>\n</div>"
     },
     "execution_count": 7,
     "metadata": {},
     "output_type": "execute_result"
    }
   ],
   "source": [
    "# prepare data with function create_agent_data and save it in variable\n",
    "#new_agent_data = create_agent_data(12)\n",
    "new_agent_data = create_agent_data_fixed_groups(4,4,4)\n",
    "new_agent_data.to_csv('random_agentdata.csv')\n",
    "new_agent_data"
   ],
   "metadata": {
    "collapsed": false,
    "pycharm": {
     "name": "#%%\n"
    }
   }
  },
  {
   "cell_type": "code",
   "execution_count": null,
   "outputs": [],
   "source": [],
   "metadata": {
    "collapsed": false,
    "pycharm": {
     "name": "#%%\n"
    }
   }
  }
 ],
 "metadata": {
  "kernelspec": {
   "display_name": "Python 3 (ipykernel)",
   "language": "python",
   "name": "python3"
  },
  "language_info": {
   "codemirror_mode": {
    "name": "ipython",
    "version": 3
   },
   "file_extension": ".py",
   "mimetype": "text/x-python",
   "name": "python",
   "nbconvert_exporter": "python",
   "pygments_lexer": "ipython3",
   "version": "3.8.5"
  }
 },
 "nbformat": 4,
 "nbformat_minor": 1
}